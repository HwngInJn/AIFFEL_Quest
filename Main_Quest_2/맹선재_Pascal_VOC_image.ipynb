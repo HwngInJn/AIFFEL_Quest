{
 "cells": [
  {
   "cell_type": "code",
   "execution_count": 1,
   "metadata": {
    "id": "dS5L8dxPo7O_"
   },
   "outputs": [],
   "source": [
    "import tensorflow.keras.layers as layers\n",
    "import tensorflow as tf"
   ]
  },
  {
   "cell_type": "code",
   "execution_count": 2,
   "metadata": {
    "id": "bhG-j8ZzpeEI"
   },
   "outputs": [
    {
     "name": "stderr",
     "output_type": "stream",
     "text": [
      "Using custom data configuration nateraw___pascal-voc-2012-c68607404d4811ac\n",
      "Reusing dataset parquet (/aiffel/.cache/huggingface/datasets/parquet/nateraw___pascal-voc-2012-c68607404d4811ac/0.0.0/9296ce43568b20d72ff8ff8ecbc821a16b68e9b8b7058805ef11f06e035f911a)\n"
     ]
    }
   ],
   "source": [
    "import datasets\n",
    "from datasets import load_dataset\n",
    "# Load the dataset\n",
    "train = load_dataset(\"nateraw/pascal-voc-2012\", split='train')"
   ]
  },
  {
   "cell_type": "code",
   "execution_count": 3,
   "metadata": {
    "id": "-BYTHoMuIWU1"
   },
   "outputs": [],
   "source": [
    "# Construct the U-Net model\n",
    "import tensorflow as tf\n",
    "from tensorflow.keras.layers import Conv2D, MaxPooling2D, Conv2DTranspose\n",
    "from tensorflow.keras.layers import Activation, BatchNormalization, Concatenate\n",
    "\n",
    "\n",
    "# Conv Block \n",
    "class ConvBlock(tf.keras.layers.Layer):\n",
    "    def __init__(self, n_filters):\n",
    "        super(ConvBlock, self).__init__()\n",
    "\n",
    "        self.conv1 = Conv2D(n_filters, 3, padding='same')\n",
    "        self.conv2 = Conv2D(n_filters, 3, padding='same')\n",
    "\n",
    "        self.bn1 = BatchNormalization()\n",
    "        self.bn2 = BatchNormalization()\n",
    "\n",
    "        self.activation = Activation('relu')\n",
    "\n",
    "    def call(self, inputs):\n",
    "        x = self.conv1(inputs)\n",
    "        x = self.bn1(x)\n",
    "        x = self.activation(x)\n",
    "\n",
    "        x = self.conv2(x)\n",
    "        x = self.bn2(x)\n",
    "        x = self.activation(x)\n",
    "\n",
    "        return x\n",
    "\n",
    "\n",
    "# Encoder Block \n",
    "class EncoderBlock(tf.keras.layers.Layer):\n",
    "    def __init__(self, n_filters):\n",
    "        super(EncoderBlock, self).__init__()\n",
    "\n",
    "        self.conv_blk = ConvBlock(n_filters)\n",
    "        self.pool = MaxPooling2D((2,2))\n",
    "\n",
    "    def call(self, inputs):\n",
    "        x = self.conv_blk(inputs)\n",
    "        p = self.pool(x)\n",
    "        return x, p\n",
    "\n",
    "\n",
    "# Decoder Block \n",
    "class DecoderBlock(tf.keras.layers.Layer):\n",
    "    def __init__(self, n_filters):\n",
    "        super(DecoderBlock, self).__init__()\n",
    "\n",
    "        self.up = Conv2DTranspose(n_filters, (2,2), strides=2, padding='same')\n",
    "        self.conv_blk = ConvBlock(n_filters)\n",
    "\n",
    "    def call(self, inputs, skip):\n",
    "        x = self.up(inputs)\n",
    "        x = Concatenate()([x, skip])\n",
    "        x = self.conv_blk(x)\n",
    "\n",
    "        return x\n",
    "\n",
    "\n",
    "# U-Net Model\n",
    "class UNET(tf.keras.Model):\n",
    "    def __init__(self, n_classes):\n",
    "        super(UNET, self).__init__()\n",
    "\n",
    "        # Encoder\n",
    "        self.e1 = EncoderBlock(64)\n",
    "        self.e2 = EncoderBlock(128)\n",
    "        self.e3 = EncoderBlock(256)\n",
    "        self.e4 = EncoderBlock(512)\n",
    "\n",
    "        # Bridge\n",
    "        self.b = ConvBlock(1024)\n",
    "\n",
    "        # Decoder\n",
    "        self.d1 = DecoderBlock(512)\n",
    "        self.d2 = DecoderBlock(256)\n",
    "        self.d3 = DecoderBlock(128)\n",
    "        self.d4 = DecoderBlock(64)\n",
    "\n",
    "        # Outputs\n",
    "        if n_classes == 1:\n",
    "            activation = 'sigmoid'\n",
    "        else:\n",
    "            activation = 'softmax'\n",
    "\n",
    "        self.outputs = Conv2D(n_classes, 1, padding='same', activation=activation)\n",
    "\n",
    "    def call(self, inputs):\n",
    "        s1, p1 = self.e1(inputs)\n",
    "        s2, p2 = self.e2(p1)\n",
    "        s3, p3 = self.e3(p2)\n",
    "        s4, p4 = self.e4(p3)\n",
    "\n",
    "        b = self.b(p4)\n",
    "\n",
    "        d1 = self.d1(b, s4)\n",
    "        d2 = self.d2(d1, s3)\n",
    "        d3 = self.d3(d2, s2)\n",
    "        d4 = self.d4(d3, s1)\n",
    "\n",
    "        outputs = self.outputs(d4)\n",
    "\n",
    "        return outputs"
   ]
  },
  {
   "cell_type": "markdown",
   "metadata": {},
   "source": [
    "* 데이터 로딩 단계에서 에러가 계속 발생하여 진행이 되질 않았다.\n",
    "* train data와 val data가 lms 환경과 로컬 환경에서 다르게 나뉘고, 이로 인해 bytesio로 형식을 변환하는 과정에서 계속 에러가 발생했다."
   ]
  }
 ],
 "metadata": {
  "colab": {
   "provenance": []
  },
  "kernelspec": {
   "display_name": "Python 3 (ipykernel)",
   "language": "python",
   "name": "python3"
  },
  "language_info": {
   "codemirror_mode": {
    "name": "ipython",
    "version": 3
   },
   "file_extension": ".py",
   "mimetype": "text/x-python",
   "name": "python",
   "nbconvert_exporter": "python",
   "pygments_lexer": "ipython3",
   "version": "3.9.7"
  }
 },
 "nbformat": 4,
 "nbformat_minor": 1
}
