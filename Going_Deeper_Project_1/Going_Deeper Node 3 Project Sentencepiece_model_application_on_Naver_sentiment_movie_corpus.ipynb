{
 "cells": [
  {
   "cell_type": "markdown",
   "metadata": {},
   "source": [
    "## Going Deeper(NLP)_RS5\n",
    "## 3. 멋진 단어사전 만들기 [프로젝트]\n",
    "### 프로젝트: SentencePiece 사용하기\n",
    "#### 라이브러리 버전 확인"
   ]
  },
  {
   "cell_type": "code",
   "execution_count": 1,
   "metadata": {},
   "outputs": [
    {
     "name": "stdout",
     "output_type": "stream",
     "text": [
      "2.6.0\n",
      "1.21.4\n",
      "3.4.3\n",
      "0.5.2\n"
     ]
    }
   ],
   "source": [
    "import tensorflow as tf\n",
    "import numpy as np\n",
    "import matplotlib as plt\n",
    "import konlpy\n",
    "\n",
    "print(tf.__version__)\n",
    "print(np.__version__)\n",
    "print(plt.__version__)\n",
    "print(konlpy.__version__)"
   ]
  },
  {
   "cell_type": "markdown",
   "metadata": {},
   "source": [
    "#### 네이버 영화리뷰 감정 분석 문제에 SentencePiece 적용해 보기\n",
    "* 네이버 영화리뷰 감정 분석 태스크: 한국어로 된 corpus를 다루어야 하므로 주로 KoNLPy에서 제공하는 형태소 분석기를 사용하여 텍스트를 전처리해서 RNN 모델을 분류기로 사용\n",
    "* tokenizer를 SentencePiece로 바꾸어 KoNLPy에 있는 Mecab, kkma, Okt 등과 비교\n",
    "###### 네이버 영화리뷰 감정 분석 코퍼스에 SentencePiece를 적용시킨 모델 학습\n",
    "###### 학습된 모델로 sp_tokenize() 메소드 구현\n",
    "###### 구현된 토크나이저를 적용하여 네이버 영화리뷰 감정 분석 모델을 재학습\n",
    "###### KoNLPy 형태소 분석기를 사용한 모델과 성능 비교\n",
    "###### SentencePiece 모델의 model_type, vocab_size 등을 변경해 가면서 성능 개선 여부 확인\n",
    "* Step 1. SentencePiece 설치하기\n",
    "* pip install sentencepiece\n",
    "* Step 2. SentencePiece 모델 학습\n",
    "* Step 3. Tokenizer 함수 작성\n",
    "######  훈련시킨 SentencePiece를 활용하여 위 함수와 유사한 기능을 하는 sp_tokenize() 함수를 정의\n",
    "###### SentencePiece가 동작하는 방식이 단순 토큰화와는 달라 완전히 동일하게는 정의하기 어려움\n",
    "###### 조건 1. 매개변수로 토큰화된 문장의 list를 전달하는 대신 온전한 문장의 list 를 전달\n",
    "###### 조건 2. 생성된 vocab 파일을 읽어와 { <word> : <idx> } 형태를 가지는 word_index 사전과 { <idx> : <word>} 형태를 가지는 index_word 사전을 생성하고 함께 반환\n",
    "###### 조건 3. 리턴값인 tensor 는 앞의 함수와 동일하게 토큰화한 후 Encoding된 문장, 바로 학습에 사용할 수 있게 Padding"
   ]
  },
  {
   "cell_type": "markdown",
   "metadata": {},
   "source": [
    "#### 데이터 가져오기\n",
    "* wget https://raw.githubusercontent.com/e9t/nsmc/master/ratings_train.txt\n",
    "* wget https://raw.githubusercontent.com/e9t/nsmc/master/ratings_test.txt\n",
    "* mv ratings_*.txt ~/aiffel/sp_tokenizer/data"
   ]
  },
  {
   "cell_type": "code",
   "execution_count": 2,
   "metadata": {},
   "outputs": [
    {
     "name": "stdout",
     "output_type": "stream",
     "text": [
      "train 데이터 사이즈: 150000\n",
      "test 데이터 사이즈: 50000\n"
     ]
    },
    {
     "data": {
      "text/html": [
       "<div>\n",
       "<style scoped>\n",
       "    .dataframe tbody tr th:only-of-type {\n",
       "        vertical-align: middle;\n",
       "    }\n",
       "\n",
       "    .dataframe tbody tr th {\n",
       "        vertical-align: top;\n",
       "    }\n",
       "\n",
       "    .dataframe thead th {\n",
       "        text-align: right;\n",
       "    }\n",
       "</style>\n",
       "<table border=\"1\" class=\"dataframe\">\n",
       "  <thead>\n",
       "    <tr style=\"text-align: right;\">\n",
       "      <th></th>\n",
       "      <th>id</th>\n",
       "      <th>document</th>\n",
       "      <th>label</th>\n",
       "    </tr>\n",
       "  </thead>\n",
       "  <tbody>\n",
       "    <tr>\n",
       "      <th>0</th>\n",
       "      <td>9976970</td>\n",
       "      <td>아 더빙.. 진짜 짜증나네요 목소리</td>\n",
       "      <td>0</td>\n",
       "    </tr>\n",
       "    <tr>\n",
       "      <th>1</th>\n",
       "      <td>3819312</td>\n",
       "      <td>흠...포스터보고 초딩영화줄....오버연기조차 가볍지 않구나</td>\n",
       "      <td>1</td>\n",
       "    </tr>\n",
       "    <tr>\n",
       "      <th>2</th>\n",
       "      <td>10265843</td>\n",
       "      <td>너무재밓었다그래서보는것을추천한다</td>\n",
       "      <td>0</td>\n",
       "    </tr>\n",
       "    <tr>\n",
       "      <th>3</th>\n",
       "      <td>9045019</td>\n",
       "      <td>교도소 이야기구먼 ..솔직히 재미는 없다..평점 조정</td>\n",
       "      <td>0</td>\n",
       "    </tr>\n",
       "    <tr>\n",
       "      <th>4</th>\n",
       "      <td>6483659</td>\n",
       "      <td>사이몬페그의 익살스런 연기가 돋보였던 영화!스파이더맨에서 늙어보이기만 했던 커스틴 ...</td>\n",
       "      <td>1</td>\n",
       "    </tr>\n",
       "  </tbody>\n",
       "</table>\n",
       "</div>"
      ],
      "text/plain": [
       "         id                                           document  label\n",
       "0   9976970                                아 더빙.. 진짜 짜증나네요 목소리      0\n",
       "1   3819312                  흠...포스터보고 초딩영화줄....오버연기조차 가볍지 않구나      1\n",
       "2  10265843                                  너무재밓었다그래서보는것을추천한다      0\n",
       "3   9045019                      교도소 이야기구먼 ..솔직히 재미는 없다..평점 조정      0\n",
       "4   6483659  사이몬페그의 익살스런 연기가 돋보였던 영화!스파이더맨에서 늙어보이기만 했던 커스틴 ...      1"
      ]
     },
     "execution_count": 2,
     "metadata": {},
     "output_type": "execute_result"
    }
   ],
   "source": [
    "# 데이터 가져오기\n",
    "import pandas as pd\n",
    "import urllib.request\n",
    "%matplotlib inline\n",
    "import matplotlib.pyplot as plt\n",
    "import re\n",
    "from konlpy.tag import Okt\n",
    "from tensorflow import keras\n",
    "import tensorflow as tf\n",
    "from tensorflow.keras.preprocessing.text import Tokenizer\n",
    "import numpy as np\n",
    "from tensorflow.keras.preprocessing.sequence import pad_sequences\n",
    "from collections import Counter\n",
    "\n",
    "# 데이터를 읽어오기\n",
    "train_data = pd.read_table('~/aiffel/sp_tokenizer/data/ratings_train.txt')\n",
    "test_data = pd.read_table('~/aiffel/sp_tokenizer/data/ratings_test.txt')\n",
    "\n",
    "print('train 데이터 사이즈:', len(train_data))\n",
    "print('test 데이터 사이즈:', len(test_data))\n",
    "\n",
    "train_data.head()"
   ]
  },
  {
   "cell_type": "markdown",
   "metadata": {},
   "source": [
    "#### 전처리"
   ]
  },
  {
   "cell_type": "code",
   "execution_count": 3,
   "metadata": {},
   "outputs": [
    {
     "name": "stdout",
     "output_type": "stream",
     "text": [
      "train 데이터 사이즈: 146182\n",
      "test 데이터 사이즈: 49157\n"
     ]
    }
   ],
   "source": [
    "# 중복된 내용과 결측치 제거\n",
    "train_data.drop_duplicates(subset=['document'], inplace=True)\n",
    "train_data = train_data.dropna(how = 'any') \n",
    "test_data.drop_duplicates(subset=['document'], inplace=True)\n",
    "test_data = test_data.dropna(how = 'any') \n",
    "\n",
    "print('train 데이터 사이즈:', len(train_data))\n",
    "print('test 데이터 사이즈:', len(test_data))"
   ]
  },
  {
   "cell_type": "code",
   "execution_count": 4,
   "metadata": {},
   "outputs": [
    {
     "name": "stdout",
     "output_type": "stream",
     "text": [
      "문장의 최단 길이: 1\n",
      "문장의 최장 길이: 146\n",
      "문장의 평균 길이: 35\n"
     ]
    },
    {
     "name": "stderr",
     "output_type": "stream",
     "text": [
      "/tmp/ipykernel_4631/2753317275.py:18: DeprecationWarning: `np.int` is a deprecated alias for the builtin `int`. To silence this warning, use `int` by itself. Doing this will not modify any behavior and is safe. When replacing `np.int`, you may wish to use e.g. `np.int64` or `np.int32` to specify the precision. If you wish to review your current use, check the release note link for additional information.\n",
      "Deprecated in NumPy 1.20; for more details and guidance: https://numpy.org/devdocs/release/1.20.0-notes.html#deprecations\n",
      "  sentence_length = np.zeros((max_len), dtype=np.int)\n"
     ]
    },
    {
     "data": {
      "image/png": "[encoded data removed]",
      "text/plain": [
       "<Figure size 432x288 with 1 Axes>"
      ]
     },
     "metadata": {
      "needs_background": "light"
     },
     "output_type": "display_data"
    }
   ],
   "source": [
    "data = list(train_data['document']) + list(test_data['document']) # 훈련 데이터와 학습 데이터를 통합하여 전처리\n",
    "\n",
    "# 데이터를 얼마나 사용할지 타협점 정의\n",
    "min_len = 999\n",
    "max_len = 0\n",
    "sum_len = 0\n",
    "\n",
    "for sen in data: \n",
    "    length = len(sen)\n",
    "    if min_len > length: min_len = length\n",
    "    if max_len < length: max_len = length\n",
    "    sum_len += length\n",
    "\n",
    "print(\"문장의 최단 길이:\", min_len)\n",
    "print(\"문장의 최장 길이:\", max_len)\n",
    "print(\"문장의 평균 길이:\", sum_len // len(data))\n",
    "\n",
    "sentence_length = np.zeros((max_len), dtype=np.int)\n",
    "\n",
    "for sen in data:\n",
    "    sentence_length[len(sen)-1] += 1\n",
    "\n",
    "plt.bar(range(max_len), sentence_length, width=1.0)\n",
    "plt.title(\"Sentence Length Distribution\")\n",
    "plt.show()"
   ]
  },
  {
   "cell_type": "code",
   "execution_count": 5,
   "metadata": {},
   "outputs": [
    {
     "name": "stdout",
     "output_type": "stream",
     "text": [
      "아\n",
      "잼\n",
      "1\n",
      "4\n",
      "굿\n",
      "짱\n",
      "휴\n",
      ".\n",
      "음\n",
      "?\n",
      "ㅎ\n",
      "ㅋ\n",
      "즐\n",
      "♥\n",
      "굳\n",
      "네\n",
      "ㅇ\n",
      "k\n",
      "ㅠ\n",
      "쒯\n",
      "♬\n",
      "토\n",
      "O\n",
      "똥\n",
      "z\n",
      "헐\n",
      "삼\n",
      "꽝\n",
      "!\n",
      "풉\n",
      "ㅅ\n",
      "왜\n",
      "ㄴ\n",
      "쉣\n",
      "봐\n",
      "뿌\n",
      "ㅜ\n",
      "♡\n",
      "ㅁ\n",
      "0\n",
      "ㅉ\n",
      "d\n",
      "흥\n",
      "乃\n",
      "찜\n",
      "귯\n",
      "린\n",
      "시\n",
      "ㅗ\n",
      "a\n",
      "c\n",
      "흠\n",
      "웅\n",
      "ㅣ\n",
      "오\n",
      "9\n",
      "쩜\n",
      "애\n",
      "헝\n",
      "쨩\n",
      "f\n",
      "움\n",
      "ㄳ\n",
      "업\n",
      "헉\n",
      "군\n",
      "b\n",
      ";\n",
      "g\n",
      "올\n",
      "걍\n",
      "허\n",
      "-\n",
      "쀍\n",
      "로\n",
      "ㄹ\n",
      "ㅂ\n",
      "갑\n",
      "즛\n",
      "킥\n",
      "함\n",
      "진\n",
      "ㅡ\n",
      "잠\n",
      "곧\n",
      "ㅍ\n",
      "h\n",
      "·\n",
      "캬\n",
      "ㅆ\n",
      ",\n",
      "풋\n",
      "ㄱ\n",
      "파\n",
      "ㄷ\n",
      "웩\n",
      "꺅\n",
      "욜\n",
      "ㅄ\n",
      "2\n",
      "핡\n",
      "\"스폰으로 먹고사는 방송이라 어쩔수 없다고 하지만. 이건 그냥 비현실적인 자동차만;...독일3사&슈퍼카 홍보 프로그램도 아니구.대중적인 자동차 방송으로 이루어 졌으면 합니다. 보는내내 \"\"카탈로그 책자\"\"를 \"\"동영상으로 보여주는 방송\"\" 같아서 씁쓸하네요.!\"\n",
      "\"\"\"니 짓은 생각않고, 웬 복수!\"\"의 교훈이라! 그럼 \"\"서바이벌 액션\"\"으로 홍보하면 안되지! 초반 45분은 멋지게 열더니.. 억지 반전, 하드고어로 시간끌다가, 허둥지둥 화해로 끝내버리네. 90분 러닝타임에 엔딩자막만 11분 틀어주는 해괴망측한 영화~!\"\n",
      "\"2007.02.25_ 벌교의 한 국밥집_ 점심: \"\"갸는 첫째고, 저 놈은 우리 둘째~\"\" 재문: \"\"아줌마! 미안해~ 그냥.. 아줌마! 나 그 남방 잘 어울려ㅠ_ㅠ?\"\" 대식에게 복수하려던 1주일 전_ 대식의 엄마를 먼저 만났다. 사랑의 꽃남방도..^-^o\"\n",
      "Outlier Index: 11\n",
      "Outlier Index: 12\n",
      "Outlier Index: 13\n",
      "Outlier Index: 14\n",
      "Outlier Index: 15\n",
      "Outlier Index: 16\n",
      "Outlier Index: 17\n",
      "Outlier Index: 18\n",
      "Outlier Index: 19\n",
      "Outlier Index: 20\n",
      "Outlier Index: 21\n",
      "Outlier Index: 22\n",
      "Outlier Index: 23\n",
      "Outlier Index: 24\n",
      "Outlier Index: 25\n"
     ]
    }
   ],
   "source": [
    "# 길이가 1인 문장 확인\n",
    "def check_sentence_with_length(data, length):\n",
    "    count = 0\n",
    "    \n",
    "    for sen in data:\n",
    "        if len(sen) == length:\n",
    "            print(sen)\n",
    "            count += 1\n",
    "            if count > 100: return\n",
    "\n",
    "check_sentence_with_length(data, 1)\n",
    "\n",
    "# 길이가 최장 길이인 문장 확인\n",
    "check_sentence_with_length(data, 146)\n",
    "\n",
    "# 확인 필요한 문장 확인\n",
    "for idx, _sum in enumerate(sentence_length):\n",
    "    # 문장의 수가 4000을 초과하는 문장 길이를 추출\n",
    "    if _sum > 4000:\n",
    "        print(\"Outlier Index:\", idx+1)\n"
   ]
  },
  {
   "cell_type": "code",
   "execution_count": 6,
   "metadata": {},
   "outputs": [
    {
     "name": "stdout",
     "output_type": "stream",
     "text": [
      "아햏햏 아햏햏 아햏햏.\n",
      "단연 최고라고 할수있지\n",
      "용가리 진짜짱짱맨이다ㅋ\n",
      "나름 괜찮은 작품입니다\n",
      "정말 실망 스러웟음..\n",
      "무술인이 왜 총을드나?\n",
      "너무너무 훈훈하네요^^\n",
      "현실은 꿈, 꿈은 현실\n",
      "답없네, 뭐하는건지..\n",
      "엔딩이 넘 슬퍼요 :(\n",
      "감동감동감동의 도가니탕\n",
      "정말 최고의 영화...\n",
      "진짜 짜증나는 영화..\n",
      "상당히 재밌게 봤습니다\n",
      "영상미가 역시 최고네요\n",
      "감독ㅡㅡ다신영화찍지마라\n",
      "이런 영화가 참 좋다.\n",
      "정말 광해와 비슷한가?\n",
      "더빙이 똥이야 ....\n",
      "잠을 청할 수 있었다.\n",
      "나오코 진짜 집중안된다\n",
      "샬라샬라 나오다즁자쥬아\n",
      "지루하다.. 지루해..\n",
      "사과해요, 나한테!!!\n",
      "소재가 굉장히 신선했다\n",
      "솔직히 산만 하기만했다\n",
      "OST가 좋은 영화!!\n",
      "기적은 이미 일어났다.\n",
      "답을 알려고 하지마라.\n",
      "평점은 믿지마셈 재밌음\n",
      "재미 드럽게 없다ㅋㅋㅋ\n",
      "자식을 그렇게 때리냐?\n",
      "감동적이였고 좋았습니다\n",
      "울컥하는 사회현실 ㅠㅠ\n",
      "등장인물들 모두 짱~~\n",
      "막장드라마가 따로없구만\n",
      "말 필요엄따~~~~진정\n",
      "꿀잼 영화 추억이다ㅜㅜ\n",
      "맞추자 ㅍ?차븟ㅇㄱ디시\n",
      "순수하고 아름답다 :)\n",
      "변태적 성욕 자기합리화\n",
      "흠....나름 갠찬네요\n",
      "걍 10점 이라길래..\n",
      "실력이 필요없는 상황.\n",
      "감동과 웃음을 한방에!\n",
      "이거야 이거 ㅋㅋㅋㅋㅋ\n",
      "성동일딸 시르다...참\n",
      "평점알바들을 위해 1점\n",
      "볼만합니다 강추!!ㅋㅋ\n",
      "이거말고 겨울왕국을봐라\n",
      "좋은니다..^.,^~~\n",
      "2.3 (10자 제한)\n",
      "아무도 안달았네..ㄷㄷ\n",
      "엉성하고 어설프고...\n",
      "그냥 보통으로 보았다.\n",
      "너무 슬픈영화..울음ㅠ\n",
      "으리는 개뿔 ㅡ,.ㅡ^\n",
      "처음 본 에로 영화..\n",
      "평점 조정을 위해...\n",
      "그냥 쓰레기지 쓰레기~\n",
      "쵝오네요 최고 대박영화\n",
      "유전무죄 무전유죄!!!\n",
      "의외의 꿀잼 이였습니다\n",
      "어차피 우승은 송민호~\n",
      "이 때부터가 쓰레기였지\n",
      "완전 찝찝한 영화...\n",
      "이상형이 바뀌었습니다.\n",
      "역시 산드라블록 누님!\n",
      "결국 엄마가 죽인거네?\n",
      "그냥 그저 별시리...\n",
      "추천할만한 경제영화였음\n",
      "제대로 알아야할 역사임\n",
      "일본판이더재미있음...\n",
      "역시 재미있군요 >ㅁ<\n",
      "아깝다 나의 1점도ㅡㅡ\n",
      "마음이 따뜻해지는 영화\n",
      "죽었다. 참 재미없다.\n",
      "최고, 정말 최고다,,\n",
      "공유 보려고 보는 영화\n",
      "재밌습니다. 꿀잼 ㅋㅋ\n",
      "조정래와 임권택의 만남\n",
      "간만에쓰레기영화보네요ㅋ\n",
      "너무재밌게 봤어요...\n",
      "의미가 뭘까...///\n",
      "이건 범죄 수준이다..\n",
      "박평식-뚜껑열린다ㅋㅋㅋ\n",
      "볼수록 재밌는 마의!!\n",
      "짱~ 오늘 티비로 봤음\n",
      "말없이 눈물이 뚝뚝..\n",
      "이렇게 유쾌할수가ㅋㅋㅋ\n",
      "완죤 지루하고 재미없네\n",
      "보다가 나가는 영화??\n",
      "에휴..........\n",
      "재미도 없구만...에효\n",
      "옥보단 3D보다 쓰레기\n",
      "반전이 꽤나 신선했다.\n",
      "허접허접허접허접허접허접\n",
      "독특한 유머. 재밌다.\n",
      "좀 식상한 스릴러영화~\n",
      "하하하핳하햐하핯하핳하하\n",
      "이영화 어디서 보나요?\n"
     ]
    }
   ],
   "source": [
    "check_sentence_with_length(data, 12)"
   ]
  },
  {
   "cell_type": "code",
   "execution_count": 7,
   "metadata": {},
   "outputs": [
    {
     "name": "stdout",
     "output_type": "stream",
     "text": [
      "Data Size: 194543\n",
      "문장의 최단 길이: 1\n",
      "문장의 최장 길이: 146\n",
      "문장의 평균 길이: 36\n"
     ]
    },
    {
     "data": {
      "image/png": "[encoded data removed]",
      "text/plain": [
       "<Figure size 432x288 with 1 Axes>"
      ]
     },
     "metadata": {
      "needs_background": "light"
     },
     "output_type": "display_data"
    }
   ],
   "source": [
    "# 문장 중복 제거\n",
    "min_len = 999\n",
    "max_len = 0\n",
    "sum_len = 0\n",
    "\n",
    "cleaned_corpus = list(set(data))  # set를 사용해서 중복을 제거\n",
    "                      \n",
    "print(\"Data Size:\", len(cleaned_corpus))\n",
    "\n",
    "for sen in cleaned_corpus:\n",
    "    length = len(sen)\n",
    "    if min_len > length: min_len = length\n",
    "    if max_len < length: max_len = length\n",
    "    sum_len += length\n",
    "\n",
    "print(\"문장의 최단 길이:\", min_len)\n",
    "print(\"문장의 최장 길이:\", max_len)\n",
    "print(\"문장의 평균 길이:\", sum_len // len(cleaned_corpus))\n",
    "\n",
    "sentence_length = np.zeros((max_len), dtype=int)\n",
    "\n",
    "for sen in cleaned_corpus:   # 중복이 제거된 코퍼스 기준\n",
    "    sentence_length[len(sen)-1] += 1\n",
    "\n",
    "plt.bar(range(max_len), sentence_length, width=1.0)\n",
    "plt.title(\"Sentence Length Distribution\")\n",
    "plt.show()"
   ]
  },
  {
   "cell_type": "code",
   "execution_count": 8,
   "metadata": {},
   "outputs": [
    {
     "data": {
      "image/png": "[encoded data removed]",
      "text/plain": [
       "<Figure size 432x288 with 1 Axes>"
      ]
     },
     "metadata": {
      "needs_background": "light"
     },
     "output_type": "display_data"
    }
   ],
   "source": [
    "# 길이 너무 긴/짧은 데이터 제거\n",
    "max_len = 100\n",
    "min_len = 5\n",
    "\n",
    "# 길이 조건에 맞는 문장만 선택\n",
    "filtered_corpus = [s for s in cleaned_corpus if (len(s) < max_len) & (len(s) >= min_len)]\n",
    "\n",
    "# 분포도를 다시 그려봅니다.\n",
    "sentence_length = np.zeros((max_len), dtype=int)\n",
    "\n",
    "for sen in filtered_corpus:\n",
    "    sentence_length[len(sen)-1] += 1\n",
    "\n",
    "plt.bar(range(max_len), sentence_length, width=1.0)\n",
    "plt.title(\"Sentence Length Distribution\")\n",
    "plt.show()"
   ]
  },
  {
   "cell_type": "markdown",
   "metadata": {},
   "source": [
    "#### 네이버 영화리뷰 감정 분석 코퍼스에 SentencePiece를 적용시킨 모델 학습\n",
    "* Unigram 타입\n",
    "* BPE 타입\n",
    "* CHAR 타입\n",
    "* WORD 타입"
   ]
  },
  {
   "cell_type": "code",
   "execution_count": 9,
   "metadata": {},
   "outputs": [
    {
     "name": "stderr",
     "output_type": "stream",
     "text": [
      "sentencepiece_trainer.cc(177) LOG(INFO) Running command: --input=/aiffel/aiffel/sp_tokenizer/data/korean-english-park.train.ko.temp --model_prefix=naver_review_spm --vocab_size=8000\n",
      "sentencepiece_trainer.cc(77) LOG(INFO) Starts training with : \n",
      "trainer_spec {\n",
      "  input: /aiffel/aiffel/sp_tokenizer/data/korean-english-park.train.ko.temp\n",
      "  input_format: \n",
      "  model_prefix: naver_review_spm\n",
      "  model_type: UNIGRAM\n",
      "  vocab_size: 8000\n",
      "  self_test_sample_size: 0\n",
      "  character_coverage: 0.9995\n",
      "  input_sentence_size: 0\n",
      "  shuffle_input_sentence: 1\n",
      "  seed_sentencepiece_size: 1000000\n",
      "  shrinking_factor: 0.75\n",
      "  max_sentence_length: 4192\n",
      "  num_threads: 16\n",
      "  num_sub_iterations: 2\n",
      "  max_sentencepiece_length: 16\n",
      "  split_by_unicode_script: 1\n",
      "  split_by_number: 1\n",
      "  split_by_whitespace: 1\n",
      "  split_digits: 0\n",
      "  treat_whitespace_as_suffix: 0\n",
      "  allow_whitespace_only_pieces: 0\n",
      "  required_chars: \n",
      "  byte_fallback: 0\n",
      "  vocabulary_output_piece_score: 1\n",
      "  train_extremely_large_corpus: 0\n",
      "  hard_vocab_limit: 1\n",
      "  use_all_vocab: 0\n",
      "  unk_id: 0\n",
      "  bos_id: 1\n",
      "  eos_id: 2\n",
      "  pad_id: -1\n",
      "  unk_piece: <unk>\n",
      "  bos_piece: <s>\n",
      "  eos_piece: </s>\n",
      "  pad_piece: <pad>\n",
      "  unk_surface:  ⁇ \n",
      "}\n",
      "normalizer_spec {\n",
      "  name: nmt_nfkc\n",
      "  add_dummy_prefix: 1\n",
      "  remove_extra_whitespaces: 1\n",
      "  escape_whitespaces: 1\n",
      "  normalization_rule_tsv: \n",
      "}\n",
      "denormalizer_spec {}\n",
      "trainer_interface.cc(329) LOG(INFO) SentenceIterator is not specified. Using MultiFileSentenceIterator.\n",
      "trainer_interface.cc(178) LOG(INFO) Loading corpus: /aiffel/aiffel/sp_tokenizer/data/korean-english-park.train.ko.temp\n",
      "trainer_interface.cc(385) LOG(INFO) Loaded all 180123 sentences\n",
      "trainer_interface.cc(400) LOG(INFO) Adding meta_piece: <unk>\n",
      "trainer_interface.cc(400) LOG(INFO) Adding meta_piece: <s>\n",
      "trainer_interface.cc(400) LOG(INFO) Adding meta_piece: </s>\n",
      "trainer_interface.cc(405) LOG(INFO) Normalizing sentences...\n",
      "trainer_interface.cc(466) LOG(INFO) all chars count=5712757\n",
      "trainer_interface.cc(477) LOG(INFO) Done: 99.95% characters are covered.\n",
      "trainer_interface.cc(487) LOG(INFO) Alphabet size=1724\n",
      "trainer_interface.cc(488) LOG(INFO) Final character coverage=0.9995\n",
      "trainer_interface.cc(520) LOG(INFO) Done! preprocessed 180123 sentences.\n",
      "unigram_model_trainer.cc(139) LOG(INFO) Making suffix array...\n",
      "unigram_model_trainer.cc(143) LOG(INFO) Extracting frequent sub strings...\n",
      "unigram_model_trainer.cc(194) LOG(INFO) Initialized 316651 seed sentencepieces\n",
      "trainer_interface.cc(526) LOG(INFO) Tokenizing input sentences with whitespace: 180123\n",
      "trainer_interface.cc(537) LOG(INFO) Done! 366828\n",
      "unigram_model_trainer.cc(489) LOG(INFO) Using 366828 sentences for EM training\n",
      "unigram_model_trainer.cc(505) LOG(INFO) EM sub_iter=0 size=160374 obj=15.2942 num_tokens=863922 num_tokens/piece=5.38692\n",
      "unigram_model_trainer.cc(505) LOG(INFO) EM sub_iter=1 size=148577 obj=14.2141 num_tokens=869390 num_tokens/piece=5.85144\n",
      "unigram_model_trainer.cc(505) LOG(INFO) EM sub_iter=0 size=111370 obj=14.3088 num_tokens=906057 num_tokens/piece=8.13556\n",
      "unigram_model_trainer.cc(505) LOG(INFO) EM sub_iter=1 size=111156 obj=14.2547 num_tokens=906342 num_tokens/piece=8.15378\n",
      "unigram_model_trainer.cc(505) LOG(INFO) EM sub_iter=0 size=83363 obj=14.4813 num_tokens=951205 num_tokens/piece=11.4104\n",
      "unigram_model_trainer.cc(505) LOG(INFO) EM sub_iter=1 size=83353 obj=14.423 num_tokens=951257 num_tokens/piece=11.4124\n",
      "unigram_model_trainer.cc(505) LOG(INFO) EM sub_iter=0 size=62513 obj=14.6742 num_tokens=994101 num_tokens/piece=15.9023\n",
      "unigram_model_trainer.cc(505) LOG(INFO) EM sub_iter=1 size=62512 obj=14.6157 num_tokens=994148 num_tokens/piece=15.9033\n",
      "unigram_model_trainer.cc(505) LOG(INFO) EM sub_iter=0 size=46884 obj=14.8973 num_tokens=1040121 num_tokens/piece=22.185\n",
      "unigram_model_trainer.cc(505) LOG(INFO) EM sub_iter=1 size=46884 obj=14.8355 num_tokens=1040170 num_tokens/piece=22.186\n",
      "unigram_model_trainer.cc(505) LOG(INFO) EM sub_iter=0 size=35163 obj=15.1472 num_tokens=1087138 num_tokens/piece=30.9171\n",
      "unigram_model_trainer.cc(505) LOG(INFO) EM sub_iter=1 size=35163 obj=15.0831 num_tokens=1087139 num_tokens/piece=30.9171\n",
      "unigram_model_trainer.cc(505) LOG(INFO) EM sub_iter=0 size=26372 obj=15.4311 num_tokens=1135477 num_tokens/piece=43.0562\n",
      "unigram_model_trainer.cc(505) LOG(INFO) EM sub_iter=1 size=26372 obj=15.3612 num_tokens=1135498 num_tokens/piece=43.057\n",
      "unigram_model_trainer.cc(505) LOG(INFO) EM sub_iter=0 size=19779 obj=15.7398 num_tokens=1187055 num_tokens/piece=60.0159\n",
      "unigram_model_trainer.cc(505) LOG(INFO) EM sub_iter=1 size=19779 obj=15.6613 num_tokens=1187076 num_tokens/piece=60.017\n",
      "unigram_model_trainer.cc(505) LOG(INFO) EM sub_iter=0 size=14834 obj=16.0753 num_tokens=1242077 num_tokens/piece=83.7318\n",
      "unigram_model_trainer.cc(505) LOG(INFO) EM sub_iter=1 size=14834 obj=15.9855 num_tokens=1242104 num_tokens/piece=83.7336\n",
      "unigram_model_trainer.cc(505) LOG(INFO) EM sub_iter=0 size=11125 obj=16.4405 num_tokens=1300052 num_tokens/piece=116.859\n",
      "unigram_model_trainer.cc(505) LOG(INFO) EM sub_iter=1 size=11125 obj=16.3403 num_tokens=1300077 num_tokens/piece=116.861\n",
      "unigram_model_trainer.cc(505) LOG(INFO) EM sub_iter=0 size=8800 obj=16.7523 num_tokens=1350859 num_tokens/piece=153.507\n",
      "unigram_model_trainer.cc(505) LOG(INFO) EM sub_iter=1 size=8800 obj=16.6509 num_tokens=1351202 num_tokens/piece=153.546\n",
      "trainer_interface.cc(615) LOG(INFO) Saving model: naver_review_spm.model\n",
      "trainer_interface.cc(626) LOG(INFO) Saving vocabs: naver_review_spm.vocab\n",
      "sentencepiece_trainer.cc(177) LOG(INFO) Running command: --input=/aiffel/aiffel/sp_tokenizer/data/korean-english-park.train.ko.temp --model_type=bpe --model_prefix=naver_review_spm_bpe --vocab_size=8000\n",
      "sentencepiece_trainer.cc(77) LOG(INFO) Starts training with : \n",
      "trainer_spec {\n",
      "  input: /aiffel/aiffel/sp_tokenizer/data/korean-english-park.train.ko.temp\n",
      "  input_format: \n",
      "  model_prefix: naver_review_spm_bpe\n",
      "  model_type: BPE\n",
      "  vocab_size: 8000\n",
      "  self_test_sample_size: 0\n",
      "  character_coverage: 0.9995\n",
      "  input_sentence_size: 0\n",
      "  shuffle_input_sentence: 1\n",
      "  seed_sentencepiece_size: 1000000\n",
      "  shrinking_factor: 0.75\n",
      "  max_sentence_length: 4192\n",
      "  num_threads: 16\n",
      "  num_sub_iterations: 2\n",
      "  max_sentencepiece_length: 16\n",
      "  split_by_unicode_script: 1\n",
      "  split_by_number: 1\n",
      "  split_by_whitespace: 1\n",
      "  split_digits: 0\n",
      "  treat_whitespace_as_suffix: 0\n",
      "  allow_whitespace_only_pieces: 0\n",
      "  required_chars: \n",
      "  byte_fallback: 0\n",
      "  vocabulary_output_piece_score: 1\n",
      "  train_extremely_large_corpus: 0\n",
      "  hard_vocab_limit: 1\n",
      "  use_all_vocab: 0\n",
      "  unk_id: 0\n",
      "  bos_id: 1\n",
      "  eos_id: 2\n",
      "  pad_id: -1\n",
      "  unk_piece: <unk>\n",
      "  bos_piece: <s>\n",
      "  eos_piece: </s>\n",
      "  pad_piece: <pad>\n",
      "  unk_surface:  ⁇ \n",
      "}\n",
      "normalizer_spec {\n",
      "  name: nmt_nfkc\n",
      "  add_dummy_prefix: 1\n",
      "  remove_extra_whitespaces: 1\n",
      "  escape_whitespaces: 1\n",
      "  normalization_rule_tsv: \n",
      "}\n",
      "denormalizer_spec {}\n",
      "trainer_interface.cc(329) LOG(INFO) SentenceIterator is not specified. Using MultiFileSentenceIterator.\n",
      "trainer_interface.cc(178) LOG(INFO) Loading corpus: /aiffel/aiffel/sp_tokenizer/data/korean-english-park.train.ko.temp\n",
      "trainer_interface.cc(385) LOG(INFO) Loaded all 180123 sentences\n",
      "trainer_interface.cc(400) LOG(INFO) Adding meta_piece: <unk>\n",
      "trainer_interface.cc(400) LOG(INFO) Adding meta_piece: <s>\n",
      "trainer_interface.cc(400) LOG(INFO) Adding meta_piece: </s>\n",
      "trainer_interface.cc(405) LOG(INFO) Normalizing sentences...\n",
      "trainer_interface.cc(466) LOG(INFO) all chars count=5712757\n",
      "trainer_interface.cc(477) LOG(INFO) Done: 99.95% characters are covered.\n",
      "trainer_interface.cc(487) LOG(INFO) Alphabet size=1724\n",
      "trainer_interface.cc(488) LOG(INFO) Final character coverage=0.9995\n",
      "trainer_interface.cc(520) LOG(INFO) Done! preprocessed 180123 sentences.\n",
      "trainer_interface.cc(526) LOG(INFO) Tokenizing input sentences with whitespace: 180123\n",
      "trainer_interface.cc(537) LOG(INFO) Done! 366828\n",
      "bpe_model_trainer.cc(167) LOG(INFO) Updating active symbols. max_freq=83666 min_freq=89\n",
      "bpe_model_trainer.cc(258) LOG(INFO) Added: freq=12006 size=20 all=112219 active=10734 piece=▁재미\n",
      "bpe_model_trainer.cc(258) LOG(INFO) Added: freq=9428 size=40 all=116010 active=14525 piece=▁안\n",
      "bpe_model_trainer.cc(258) LOG(INFO) Added: freq=6584 size=60 all=119907 active=18422 piece=▁모\n",
      "bpe_model_trainer.cc(258) LOG(INFO) Added: freq=5445 size=80 all=124598 active=23113 piece=배우\n",
      "bpe_model_trainer.cc(258) LOG(INFO) Added: freq=4475 size=100 all=127395 active=25910 piece=▁느\n",
      "bpe_model_trainer.cc(167) LOG(INFO) Updating active symbols. max_freq=4461 min_freq=75\n",
      "bpe_model_trainer.cc(258) LOG(INFO) Added: freq=3875 size=120 all=130912 active=9852 piece=▁완\n",
      "bpe_model_trainer.cc(258) LOG(INFO) Added: freq=3404 size=140 all=133540 active=12480 piece=;;\n",
      "bpe_model_trainer.cc(258) LOG(INFO) Added: freq=3069 size=160 all=136182 active=15122 piece=▁고\n",
      "bpe_model_trainer.cc(258) LOG(INFO) Added: freq=2755 size=180 all=138429 active=17369 piece=!!!\n",
      "bpe_model_trainer.cc(258) LOG(INFO) Added: freq=2587 size=200 all=140871 active=19811 piece=▁바\n",
      "bpe_model_trainer.cc(167) LOG(INFO) Updating active symbols. max_freq=2574 min_freq=66\n",
      "bpe_model_trainer.cc(258) LOG(INFO) Added: freq=2314 size=220 all=143725 active=9779 piece=없는\n",
      "bpe_model_trainer.cc(258) LOG(INFO) Added: freq=2154 size=240 all=146020 active=12074 piece=어서\n",
      "bpe_model_trainer.cc(258) LOG(INFO) Added: freq=1998 size=260 all=148471 active=14525 piece=▁모르\n",
      "bpe_model_trainer.cc(258) LOG(INFO) Added: freq=1882 size=280 all=150812 active=16866 piece=에게\n",
      "bpe_model_trainer.cc(258) LOG(INFO) Added: freq=1777 size=300 all=153207 active=19260 piece=▁우리\n",
      "bpe_model_trainer.cc(167) LOG(INFO) Updating active symbols. max_freq=1776 min_freq=59\n",
      "bpe_model_trainer.cc(258) LOG(INFO) Added: freq=1661 size=320 all=155757 active=10132 piece=필요\n",
      "bpe_model_trainer.cc(258) LOG(INFO) Added: freq=1558 size=340 all=157615 active=11990 piece=진짜\n",
      "bpe_model_trainer.cc(258) LOG(INFO) Added: freq=1442 size=360 all=160058 active=14433 piece=사람\n",
      "bpe_model_trainer.cc(258) LOG(INFO) Added: freq=1403 size=380 all=162083 active=16458 piece=아서\n",
      "bpe_model_trainer.cc(258) LOG(INFO) Added: freq=1351 size=400 all=163793 active=18168 piece=▁보기\n",
      "bpe_model_trainer.cc(167) LOG(INFO) Updating active symbols. max_freq=1348 min_freq=54\n",
      "bpe_model_trainer.cc(258) LOG(INFO) Added: freq=1293 size=420 all=165712 active=10071 piece=하면\n",
      "bpe_model_trainer.cc(258) LOG(INFO) Added: freq=1225 size=440 all=167480 active=11839 piece=▁남자\n",
      "bpe_model_trainer.cc(258) LOG(INFO) Added: freq=1170 size=460 all=169165 active=13524 piece=▁대한\n",
      "bpe_model_trainer.cc(258) LOG(INFO) Added: freq=1120 size=480 all=170765 active=15124 piece=▁전개\n",
      "bpe_model_trainer.cc(258) LOG(INFO) Added: freq=1077 size=500 all=172778 active=17137 piece=▁추천\n",
      "bpe_model_trainer.cc(167) LOG(INFO) Updating active symbols. max_freq=1071 min_freq=50\n",
      "bpe_model_trainer.cc(258) LOG(INFO) Added: freq=1033 size=520 all=174164 active=9974 piece=▁굿\n",
      "bpe_model_trainer.cc(258) LOG(INFO) Added: freq=990 size=540 all=175181 active=10991 piece=▁잔잔\n",
      "bpe_model_trainer.cc(258) LOG(INFO) Added: freq=956 size=560 all=177055 active=12865 piece=이지\n",
      "bpe_model_trainer.cc(258) LOG(INFO) Added: freq=929 size=580 all=179414 active=15224 piece=수록\n",
      "bpe_model_trainer.cc(258) LOG(INFO) Added: freq=908 size=600 all=181090 active=16900 piece=▁나온\n",
      "bpe_model_trainer.cc(167) LOG(INFO) Updating active symbols. max_freq=908 min_freq=47\n",
      "bpe_model_trainer.cc(258) LOG(INFO) Added: freq=883 size=620 all=183597 active=11518 piece=▁아쉽\n",
      "bpe_model_trainer.cc(258) LOG(INFO) Added: freq=852 size=640 all=185116 active=13037 piece=▁기분\n",
      "bpe_model_trainer.cc(258) LOG(INFO) Added: freq=825 size=660 all=187404 active=15325 piece=▁카\n",
      "bpe_model_trainer.cc(258) LOG(INFO) Added: freq=795 size=680 all=189014 active=16935 piece=난다\n",
      "bpe_model_trainer.cc(258) LOG(INFO) Added: freq=773 size=700 all=191014 active=18935 piece=▁네\n",
      "bpe_model_trainer.cc(167) LOG(INFO) Updating active symbols. max_freq=773 min_freq=43\n",
      "bpe_model_trainer.cc(258) LOG(INFO) Added: freq=749 size=720 all=192460 active=10952 piece=이네\n",
      "bpe_model_trainer.cc(258) LOG(INFO) Added: freq=726 size=740 all=193950 active=12442 piece=▁무섭\n",
      "bpe_model_trainer.cc(258) LOG(INFO) Added: freq=709 size=760 all=195349 active=13841 piece=▁개인\n",
      "bpe_model_trainer.cc(258) LOG(INFO) Added: freq=691 size=780 all=196684 active=15176 piece=▁나와\n",
      "bpe_model_trainer.cc(258) LOG(INFO) Added: freq=677 size=800 all=197927 active=16419 piece=▁언제\n",
      "bpe_model_trainer.cc(167) LOG(INFO) Updating active symbols. max_freq=676 min_freq=41\n",
      "bpe_model_trainer.cc(258) LOG(INFO) Added: freq=661 size=820 all=200123 active=12042 piece=▁차라리\n",
      "bpe_model_trainer.cc(258) LOG(INFO) Added: freq=648 size=840 all=201063 active=12982 piece=▁감독의\n",
      "bpe_model_trainer.cc(258) LOG(INFO) Added: freq=633 size=860 all=201999 active=13918 piece=▁황\n",
      "bpe_model_trainer.cc(258) LOG(INFO) Added: freq=622 size=880 all=203529 active=15448 piece=▁낚\n",
      "bpe_model_trainer.cc(258) LOG(INFO) Added: freq=606 size=900 all=204525 active=16444 piece=점을\n",
      "bpe_model_trainer.cc(167) LOG(INFO) Updating active symbols. max_freq=606 min_freq=39\n",
      "bpe_model_trainer.cc(258) LOG(INFO) Added: freq=591 size=920 all=205700 active=11321 piece=▁답답\n",
      "bpe_model_trainer.cc(258) LOG(INFO) Added: freq=578 size=940 all=206684 active=12305 piece=▁어색\n",
      "bpe_model_trainer.cc(258) LOG(INFO) Added: freq=570 size=960 all=208310 active=13931 piece=▁후회\n",
      "bpe_model_trainer.cc(258) LOG(INFO) Added: freq=555 size=980 all=209521 active=15142 piece=▁얼마\n",
      "bpe_model_trainer.cc(258) LOG(INFO) Added: freq=541 size=1000 all=211370 active=16991 piece=▁극장에서\n",
      "bpe_model_trainer.cc(167) LOG(INFO) Updating active symbols. max_freq=540 min_freq=37\n",
      "bpe_model_trainer.cc(258) LOG(INFO) Added: freq=525 size=1020 all=212572 active=11757 piece=▁시청\n",
      "bpe_model_trainer.cc(258) LOG(INFO) Added: freq=512 size=1040 all=213509 active=12694 piece=있고\n",
      "bpe_model_trainer.cc(258) LOG(INFO) Added: freq=502 size=1060 all=214706 active=13891 piece=▁영화라\n",
      "bpe_model_trainer.cc(258) LOG(INFO) Added: freq=489 size=1080 all=216234 active=15419 piece=♥♥\n",
      "bpe_model_trainer.cc(258) LOG(INFO) Added: freq=478 size=1100 all=217659 active=16844 piece=▁안되는\n",
      "bpe_model_trainer.cc(167) LOG(INFO) Updating active symbols. max_freq=477 min_freq=36\n",
      "bpe_model_trainer.cc(258) LOG(INFO) Added: freq=465 size=1120 all=218790 active=11991 piece=▁터\n",
      "bpe_model_trainer.cc(258) LOG(INFO) Added: freq=459 size=1140 all=219816 active=13017 piece=▁있고\n",
      "bpe_model_trainer.cc(258) LOG(INFO) Added: freq=448 size=1160 all=220805 active=14006 piece=▁광\n",
      "bpe_model_trainer.cc(258) LOG(INFO) Added: freq=441 size=1180 all=221933 active=15134 piece=▁초딩\n",
      "bpe_model_trainer.cc(258) LOG(INFO) Added: freq=431 size=1200 all=223000 active=16201 piece=▁없었다\n",
      "bpe_model_trainer.cc(167) LOG(INFO) Updating active symbols. max_freq=430 min_freq=34\n",
      "bpe_model_trainer.cc(258) LOG(INFO) Added: freq=423 size=1220 all=224096 active=12233 piece=▁그나마\n",
      "bpe_model_trainer.cc(258) LOG(INFO) Added: freq=414 size=1240 all=225804 active=13940 piece=▁결말이\n",
      "bpe_model_trainer.cc(258) LOG(INFO) Added: freq=407 size=1260 all=226827 active=14963 piece=▁s\n",
      "bpe_model_trainer.cc(258) LOG(INFO) Added: freq=401 size=1280 all=227903 active=16039 piece=▁화려\n",
      "bpe_model_trainer.cc(258) LOG(INFO) Added: freq=394 size=1300 all=229014 active=17150 piece=잖아\n",
      "bpe_model_trainer.cc(167) LOG(INFO) Updating active symbols. max_freq=394 min_freq=33\n",
      "bpe_model_trainer.cc(258) LOG(INFO) Added: freq=386 size=1320 all=230124 active=12436 piece=라서\n",
      "bpe_model_trainer.cc(258) LOG(INFO) Added: freq=379 size=1340 all=231382 active=13694 piece=!!!!!!!!\n",
      "bpe_model_trainer.cc(258) LOG(INFO) Added: freq=372 size=1360 all=232501 active=14813 piece=주세요\n",
      "bpe_model_trainer.cc(258) LOG(INFO) Added: freq=366 size=1380 all=233615 active=15927 piece=라니\n",
      "bpe_model_trainer.cc(258) LOG(INFO) Added: freq=359 size=1400 all=234820 active=17132 piece=▁에로\n",
      "bpe_model_trainer.cc(167) LOG(INFO) Updating active symbols. max_freq=359 min_freq=32\n",
      "bpe_model_trainer.cc(258) LOG(INFO) Added: freq=352 size=1420 all=235913 active=12790 piece=모르\n",
      "bpe_model_trainer.cc(258) LOG(INFO) Added: freq=345 size=1440 all=237114 active=13991 piece=▁준다\n",
      "bpe_model_trainer.cc(258) LOG(INFO) Added: freq=339 size=1460 all=238043 active=14920 piece=여자\n",
      "bpe_model_trainer.cc(258) LOG(INFO) Added: freq=335 size=1480 all=239669 active=16546 piece=▁했다\n",
      "bpe_model_trainer.cc(258) LOG(INFO) Added: freq=329 size=1500 all=240340 active=17217 piece=▁흠\n",
      "bpe_model_trainer.cc(167) LOG(INFO) Updating active symbols. max_freq=329 min_freq=31\n",
      "bpe_model_trainer.cc(258) LOG(INFO) Added: freq=323 size=1520 all=241418 active=13071 piece=▁봄\n",
      "bpe_model_trainer.cc(258) LOG(INFO) Added: freq=318 size=1540 all=242285 active=13938 piece=▁빈\n",
      "bpe_model_trainer.cc(258) LOG(INFO) Added: freq=314 size=1560 all=243252 active=14905 piece=▁프랑스\n",
      "bpe_model_trainer.cc(258) LOG(INFO) Added: freq=309 size=1580 all=244237 active=15890 piece=▁잘만들\n",
      "bpe_model_trainer.cc(258) LOG(INFO) Added: freq=305 size=1600 all=245414 active=17067 piece=다는게\n",
      "bpe_model_trainer.cc(167) LOG(INFO) Updating active symbols. max_freq=305 min_freq=30\n",
      "bpe_model_trainer.cc(258) LOG(INFO) Added: freq=300 size=1620 all=246477 active=13254 piece=▁흥행\n",
      "bpe_model_trainer.cc(258) LOG(INFO) Added: freq=297 size=1640 all=247432 active=14209 piece=▁장면이\n",
      "bpe_model_trainer.cc(258) LOG(INFO) Added: freq=292 size=1660 all=248507 active=15284 piece=▁여전\n",
      "bpe_model_trainer.cc(258) LOG(INFO) Added: freq=286 size=1680 all=249721 active=16498 piece=▁있었다\n",
      "bpe_model_trainer.cc(258) LOG(INFO) Added: freq=282 size=1700 all=250581 active=17358 piece=▁놓\n",
      "bpe_model_trainer.cc(167) LOG(INFO) Updating active symbols. max_freq=282 min_freq=29\n",
      "bpe_model_trainer.cc(258) LOG(INFO) Added: freq=279 size=1720 all=251475 active=13384 piece=▁어쩔\n",
      "bpe_model_trainer.cc(258) LOG(INFO) Added: freq=275 size=1740 all=252618 active=14527 piece=▁만족\n",
      "bpe_model_trainer.cc(258) LOG(INFO) Added: freq=272 size=1760 all=253801 active=15710 piece=▁수가\n",
      "bpe_model_trainer.cc(258) LOG(INFO) Added: freq=268 size=1780 all=254673 active=16582 piece=무리\n",
      "bpe_model_trainer.cc(258) LOG(INFO) Added: freq=265 size=1800 all=255529 active=17438 piece=▁핵\n",
      "bpe_model_trainer.cc(167) LOG(INFO) Updating active symbols. max_freq=265 min_freq=28\n",
      "bpe_model_trainer.cc(258) LOG(INFO) Added: freq=261 size=1820 all=256309 active=13508 piece=▁a\n",
      "bpe_model_trainer.cc(258) LOG(INFO) Added: freq=258 size=1840 all=257159 active=14357 piece=스런\n",
      "bpe_model_trainer.cc(258) LOG(INFO) Added: freq=255 size=1860 all=258113 active=15311 piece=▁안된다\n",
      "bpe_model_trainer.cc(258) LOG(INFO) Added: freq=252 size=1880 all=258961 active=16159 piece=▁카메\n",
      "bpe_model_trainer.cc(258) LOG(INFO) Added: freq=249 size=1900 all=259525 active=16723 piece=~^^\n",
      "bpe_model_trainer.cc(167) LOG(INFO) Updating active symbols. max_freq=249 min_freq=27\n",
      "bpe_model_trainer.cc(258) LOG(INFO) Added: freq=245 size=1920 all=260090 active=13528 piece=님이\n",
      "bpe_model_trainer.cc(258) LOG(INFO) Added: freq=243 size=1940 all=261275 active=14713 piece=▁허술\n",
      "bpe_model_trainer.cc(258) LOG(INFO) Added: freq=239 size=1960 all=261948 active=15386 piece=▁왜이리\n",
      "bpe_model_trainer.cc(258) LOG(INFO) Added: freq=235 size=1980 all=262729 active=16167 piece=▁ᅮ\n",
      "bpe_model_trainer.cc(258) LOG(INFO) Added: freq=232 size=2000 all=263780 active=17218 piece=내는\n",
      "bpe_model_trainer.cc(167) LOG(INFO) Updating active symbols. max_freq=232 min_freq=26\n",
      "bpe_model_trainer.cc(258) LOG(INFO) Added: freq=229 size=2020 all=264768 active=14122 piece=▁독립\n",
      "bpe_model_trainer.cc(258) LOG(INFO) Added: freq=227 size=2040 all=265557 active=14911 piece=지게\n",
      "bpe_model_trainer.cc(258) LOG(INFO) Added: freq=224 size=2060 all=266438 active=15792 piece=▁이래\n",
      "bpe_model_trainer.cc(258) LOG(INFO) Added: freq=222 size=2080 all=267400 active=16754 piece=▁전문\n",
      "bpe_model_trainer.cc(258) LOG(INFO) Added: freq=219 size=2100 all=268365 active=17719 piece=같은데\n",
      "bpe_model_trainer.cc(167) LOG(INFO) Updating active symbols. max_freq=219 min_freq=25\n",
      "b"
     ]
    },
    {
     "name": "stdout",
     "output_type": "stream",
     "text": [
      "-rw-r--r-- 1 root root 370635 Aug 16 08:16 naver_review_spm_bpe.model\r\n",
      "-rw-r--r-- 1 root root 115831 Aug 16 08:16 naver_review_spm_bpe.vocab\r\n",
      "-rw-r--r-- 1 root root 258220 Aug 16 08:16 naver_review_spm_char.model\r\n",
      "-rw-r--r-- 1 root root  22081 Aug 16 08:16 naver_review_spm_char.vocab\r\n",
      "-rw-r--r-- 1 root root 375167 Aug 16 08:16 naver_review_spm.model\r\n",
      "-rw-r--r-- 1 root root 144552 Aug 16 08:16 naver_review_spm.vocab\r\n",
      "-rw-r--r-- 1 root root 406005 Aug 16 08:16 naver_review_spm_word.model\r\n",
      "-rw-r--r-- 1 root root 175822 Aug 16 08:16 naver_review_spm_word.vocab\r\n"
     ]
    }
   ],
   "source": [
    "# sentencepiece 모델 학습\n",
    "import sentencepiece as spm\n",
    "import os\n",
    "temp_file = os.getenv('HOME')+'/aiffel/sp_tokenizer/data/korean-english-park.train.ko.temp'\n",
    "\n",
    "vocab_size = 8000\n",
    "\n",
    "with open(temp_file, 'w') as f:\n",
    "    for row in filtered_corpus:   # 이전 스텝에서 정제했던 corpus를 활용\n",
    "        f.write(str(row) + '\\n')\n",
    "\n",
    "# 디폴트 --model_type = 'unigram'\n",
    "spm.SentencePieceTrainer.Train(\n",
    "    '--input={} --model_prefix=naver_review_spm --vocab_size={}'.format(temp_file, vocab_size)    \n",
    ")\n",
    "\n",
    "# --model_type = 'bpe'\n",
    "spm.SentencePieceTrainer.Train(\n",
    "    '--input={} --model_type=bpe --model_prefix=naver_review_spm_bpe --vocab_size={}'.format(temp_file, vocab_size)    \n",
    ")\n",
    "\n",
    "# --model_type = 'char'\n",
    "spm.SentencePieceTrainer.Train(\n",
    "    '--input={} --model_type=char --model_prefix=naver_review_spm_char --vocab_size={}'.format(temp_file, vocab_size)    \n",
    ")\n",
    "\n",
    "# --model_type = 'word'\n",
    "spm.SentencePieceTrainer.Train(\n",
    "    '--input={} --model_type=word --model_prefix=naver_review_spm_word --vocab_size={}'.format(temp_file, vocab_size)    \n",
    ")\n",
    "\n",
    "!ls -l naver_review_spm*"
   ]
  },
  {
   "cell_type": "code",
   "execution_count": 10,
   "metadata": {},
   "outputs": [
    {
     "name": "stdout",
     "output_type": "stream",
     "text": [
      "[1501, 10, 426, 15, 1337, 10, 137, 17, 4]\n",
      "['▁아버지', '가', '방', '에', '들어', '가', '신', '다', '.']\n",
      "아버지가방에들어가신다.\n"
     ]
    }
   ],
   "source": [
    "# unigram\n",
    "# sentencepiece 모델이 잘 적용됐는지 확인해보기\n",
    "s_uni = spm.SentencePieceProcessor() \n",
    "s_uni.Load('naver_review_spm.model') # unigram 타입 model\n",
    "\n",
    "# SentencePiece를 활용한 sentence -> encoding\n",
    "tokensIDs = s_uni.EncodeAsIds('아버지가방에들어가신다.')\n",
    "print(tokensIDs)\n",
    "\n",
    "# SentencePiece를 활용한 sentence -> encoded pieces\n",
    "print(s_uni.SampleEncodeAsPieces('아버지가방에들어가신다.',1, 0.0))\n",
    "\n",
    "# SentencePiece를 활용한 encoding -> sentence 복원\n",
    "print(s_uni.DecodeIds(tokensIDs))"
   ]
  },
  {
   "cell_type": "code",
   "execution_count": 11,
   "metadata": {},
   "outputs": [
    {
     "name": "stdout",
     "output_type": "stream",
     "text": [
      "[5055, 912, 6554, 6289, 1469, 6285, 6391, 6279, 6277]\n",
      "['▁아버', '지가', '방', '에', '들어', '가', '신', '다', '.']\n",
      "아버지가방에들어가신다.\n"
     ]
    }
   ],
   "source": [
    "# bpe\n",
    "# sentencepiece 모델이 잘 적용됐는지 확인해보기\n",
    "s_bpe = spm.SentencePieceProcessor() \n",
    "s_bpe.Load('naver_review_spm_bpe.model') # bpe 타입 model\n",
    "\n",
    "# SentencePiece를 활용한 sentence -> encoding\n",
    "tokensIDs = s_bpe.EncodeAsIds('아버지가방에들어가신다.')\n",
    "print(tokensIDs)\n",
    "\n",
    "# SentencePiece를 활용한 sentence -> encoded pieces\n",
    "print(s_bpe.SampleEncodeAsPieces('아버지가방에들어가신다.',1, 0.0))\n",
    "\n",
    "# SentencePiece를 활용한 encoding -> sentence 복원\n",
    "print(s_bpe.DecodeIds(tokensIDs))"
   ]
  },
  {
   "cell_type": "code",
   "execution_count": 12,
   "metadata": {},
   "outputs": [
    {
     "name": "stdout",
     "output_type": "stream",
     "text": [
      "[3, 15, 190, 11, 12, 281, 16, 36, 22, 12, 118, 6, 4]\n",
      "[]\n",
      "아버지가방에들어가신다.\n"
     ]
    }
   ],
   "source": [
    "# char\n",
    "# sentencepiece 모델이 잘 적용됐는지 확인해보기\n",
    "s_char = spm.SentencePieceProcessor() \n",
    "s_char.Load('naver_review_spm_char.model') # char 타입 model\n",
    "\n",
    "# SentencePiece를 활용한 sentence -> encoding\n",
    "tokensIDs = s_char.EncodeAsIds('아버지가방에들어가신다.')\n",
    "print(tokensIDs)\n",
    "\n",
    "# SentencePiece를 활용한 sentence -> encoded pieces\n",
    "print(s_char.SampleEncodeAsPieces('아버지가방에들어가신다.',1, 0.0))\n",
    "\n",
    "# SentencePiece를 활용한 encoding -> sentence 복원\n",
    "print(s_char.DecodeIds(tokensIDs))"
   ]
  },
  {
   "cell_type": "code",
   "execution_count": 13,
   "metadata": {},
   "outputs": [
    {
     "name": "stdout",
     "output_type": "stream",
     "text": [
      "[0]\n",
      "[]\n",
      " ⁇ \n"
     ]
    }
   ],
   "source": [
    "# word\n",
    "# sentencepiece 모델이 잘 적용됐는지 확인해보기\n",
    "s_word = spm.SentencePieceProcessor() \n",
    "s_word.Load('naver_review_spm_word.model') # word 타입 model\n",
    "\n",
    "# SentencePiece를 활용한 sentence -> encoding\n",
    "tokensIDs = s_word.EncodeAsIds('아버지가방에들어가신다.')\n",
    "print(tokensIDs)\n",
    "\n",
    "# SentencePiece를 활용한 sentence -> encoded pieces\n",
    "print(s_word.SampleEncodeAsPieces('아버지가방에들어가신다.',1, 0.0))\n",
    "\n",
    "# SentencePiece를 활용한 encoding -> sentence 복원\n",
    "print(s_word.DecodeIds(tokensIDs))"
   ]
  },
  {
   "cell_type": "markdown",
   "metadata": {},
   "source": [
    "#### 학습된 모델로 sp_tokenize() 메소드 구현\n",
    "* Unigram 타입\n",
    "* BPE 타입\n",
    "* CHAR 타입\n",
    "* WORD 타입"
   ]
  },
  {
   "cell_type": "code",
   "execution_count": 14,
   "metadata": {},
   "outputs": [
    {
     "name": "stdout",
     "output_type": "stream",
     "text": [
      "[[   0    0    0    0    0    0    0    0    0    0    0    0    0    0\n",
      "     0    0    0    0    0    0    0    0    0    0    0    0    0    0\n",
      "     0    0    0    0    0    0    0    0    0    0    0    0    0    0\n",
      "     0    0    0    0    0    0    0    0    0    0    0    0    0    0\n",
      "     0    0    0    0    0    0    0    0    0    0    0    0    0    0\n",
      "     0    0    0    0    0    0    0    0    0    0    0    0    0    0\n",
      "     0    0    0    0    0    0    0    0    0    0  560 3373   14 1377\n",
      "  2222    4]\n",
      " [   0    0    0    0    0    0    0    0    0    0    0    0    0    0\n",
      "     0    0    0    0    0    0    0    0    0    0    0    0    0    0\n",
      "     0    0    0    0    0    0    0    0    0    0    0    0    0    0\n",
      "     0    0    0    0    0    0    0    0    0    0    0    0    0    0\n",
      "     0    0    0    0    0    0    0    0    0    0    0    0    0    0\n",
      "     0    0    0    0    0    0    0    0    0    0    0    0    0    0\n",
      "     0    0    0    0    0    0 1577 2275  252  588   10    3   16 7936\n",
      "   682    8]]\n"
     ]
    }
   ],
   "source": [
    "#unigram\n",
    "def sp_tokenize_uni(s_uni, corpus):\n",
    "\n",
    "    tensor = []\n",
    "\n",
    "    for sen in corpus:\n",
    "        tensor.append(s_uni.EncodeAsIds(sen))\n",
    "\n",
    "    with open(\"./naver_review_spm.vocab\", 'r') as f: # unigram 타입 vocab\n",
    "        vocab = f.readlines()\n",
    "\n",
    "    word_index = {}\n",
    "    index_word = {}\n",
    "\n",
    "    for idx, line in enumerate(vocab):\n",
    "        word = line.split(\"\\t\")[0]\n",
    "\n",
    "        word_index.update({idx:word})\n",
    "        index_word.update({word:idx})\n",
    "\n",
    "    tensor = tf.keras.preprocessing.sequence.pad_sequences(tensor, padding='pre', maxlen = 100)\n",
    "    # tensor = tf.keras.preprocessing.sequence.pad_sequences(tensor, padding='post', maxlen = 100) \n",
    "\n",
    "    return tensor, word_index, index_word\n",
    "\n",
    "#sp_tokenize(s, corpus) 사용예제로 확인\n",
    "my_corpus = ['나는 밥을 먹었습니다.', '그러나 여전히 ㅠㅠ 배가 고픕니다...']\n",
    "tensor_uni, word_index_uni, index_word_uni = sp_tokenize_uni(s_uni, my_corpus)\n",
    "print(tensor_uni)"
   ]
  },
  {
   "cell_type": "code",
   "execution_count": 15,
   "metadata": {},
   "outputs": [
    {
     "name": "stdout",
     "output_type": "stream",
     "text": [
      "(195339, 100)\n"
     ]
    }
   ],
   "source": [
    "tensor_uni, word_index_uni, index_word_uni = sp_tokenize_uni(s_uni, data)\n",
    "print(tensor_uni.shape)"
   ]
  },
  {
   "cell_type": "code",
   "execution_count": 16,
   "metadata": {},
   "outputs": [
    {
     "name": "stdout",
     "output_type": "stream",
     "text": [
      "[[   0    0    0    0    0    0    0    0    0    0    0    0    0    0\n",
      "     0    0    0    0    0    0    0    0    0    0    0    0    0    0\n",
      "     0    0    0    0    0    0    0    0    0    0    0    0    0    0\n",
      "     0    0    0    0    0    0    0    0    0    0    0    0    0    0\n",
      "     0    0    0    0    0    0    0    0    0    0    0    0    0    0\n",
      "     0    0    0    0    0    0    0    0    0    0    0    0    0    0\n",
      "     0    0    0    0    0    0    0    0    0    0  719 3151 6306  565\n",
      "   829 6277]\n",
      " [   0    0    0    0    0    0    0    0    0    0    0    0    0    0\n",
      "     0    0    0    0    0    0    0    0    0    0    0    0    0    0\n",
      "     0    0    0    0    0    0    0    0    0    0    0    0    0    0\n",
      "     0    0    0    0    0    0    0    0    0    0    0    0    0    0\n",
      "     0    0    0    0    0    0    0    0    0    0    0    0    0    0\n",
      "     0    0    0    0    0    0    0    0    0    0    0    0    0    0\n",
      "     0    0    0    0    0    0    0 1680 2303  323  324 6285  162 7625\n",
      "    14    7]]\n"
     ]
    }
   ],
   "source": [
    "#BPE\n",
    "def sp_tokenize_bpe(s_bpe, corpus):\n",
    "\n",
    "    tensor = []\n",
    "\n",
    "    for sen in corpus:\n",
    "        tensor.append(s_bpe.EncodeAsIds(sen))\n",
    "\n",
    "    with open(\"./naver_review_spm_bpe.vocab\", 'r') as f: # bpe 타입 vocab\n",
    "        vocab = f.readlines()\n",
    "\n",
    "    word_index = {}\n",
    "    index_word = {}\n",
    "\n",
    "    for idx, line in enumerate(vocab):\n",
    "        word = line.split(\"\\t\")[0]\n",
    "\n",
    "        word_index.update({idx:word})\n",
    "        index_word.update({word:idx})\n",
    "\n",
    "    tensor = tf.keras.preprocessing.sequence.pad_sequences(tensor, padding='pre', maxlen = 100)\n",
    "    # tensor = tf.keras.preprocessing.sequence.pad_sequences(tensor, padding='post', maxlen = 100) \n",
    "\n",
    "    return tensor, word_index, index_word\n",
    "\n",
    "#sp_tokenize(s, corpus) 사용예제로 확인\n",
    "my_corpus = ['나는 밥을 먹었습니다.', '그러나 여전히 ㅠㅠ 배가 고픕니다...']\n",
    "tensor_bpe, word_index_bpe, index_word_bpe = sp_tokenize_bpe(s_bpe, my_corpus)\n",
    "print(tensor_bpe)"
   ]
  },
  {
   "cell_type": "code",
   "execution_count": 17,
   "metadata": {},
   "outputs": [
    {
     "name": "stdout",
     "output_type": "stream",
     "text": [
      "(195339, 100)\n"
     ]
    }
   ],
   "source": [
    "tensor_bpe, word_index_bpe, index_word_bpe = sp_tokenize_bpe(s_bpe, data)\n",
    "print(tensor_bpe.shape)"
   ]
  },
  {
   "cell_type": "code",
   "execution_count": 18,
   "metadata": {},
   "outputs": [
    {
     "name": "stdout",
     "output_type": "stream",
     "text": [
      "[[   0    0    0    0    0    0    0    0    0    0    0    0    0    0\n",
      "     0    0    0    0    0    0    0    0    0    0    0    0    0    0\n",
      "     0    0    0    0    0    0    0    0    0    0    0    0    0    0\n",
      "     0    0    0    0    0    0    0    0    0    0    0    0    0    0\n",
      "     0    0    0    0    0    0    0    0    0    0    0    0    0    0\n",
      "     0    0    0    0    0    0    0    0    0    0    0    0    0    0\n",
      "     0    0    0    3   17    7    3  773   33    3  295   77  137   35\n",
      "     6    4]\n",
      " [   0    0    0    0    0    0    0    0    0    0    0    0    0    0\n",
      "     0    0    0    0    0    0    0    0    0    0    0    0    0    0\n",
      "     0    0    0    0    0    0    0    0    0    0    0    0    0    0\n",
      "     0    0    0    0    0    0    0    0    0    0    0    0    0    0\n",
      "     0    0    0    0    0    0    0    0    0    0    0    0    0    0\n",
      "     0    0    0    0    0    0    0    0    3   38  117   17    3   80\n",
      "    64  125    3   94   94    3  119   12    3   10 1352   35    6    4\n",
      "     4    4]]\n"
     ]
    }
   ],
   "source": [
    "# char\n",
    "def sp_tokenize_char(s_char, corpus):\n",
    "\n",
    "    tensor = []\n",
    "\n",
    "    for sen in corpus:\n",
    "        tensor.append(s_char.EncodeAsIds(sen))\n",
    "\n",
    "    with open(\"./naver_review_spm_char.vocab\", 'r') as f: # char 타입 vocab\n",
    "        vocab = f.readlines()\n",
    "\n",
    "    word_index = {}\n",
    "    index_word = {}\n",
    "\n",
    "    for idx, line in enumerate(vocab):\n",
    "        word = line.split(\"\\t\")[0]\n",
    "\n",
    "        word_index.update({idx:word})\n",
    "        index_word.update({word:idx})\n",
    "\n",
    "    tensor = tf.keras.preprocessing.sequence.pad_sequences(tensor, padding='pre', maxlen = 100) \n",
    "    # tensor = tf.keras.preprocessing.sequence.pad_sequences(tensor, padding='post', maxlen = 100) \n",
    "    return tensor, word_index, index_word\n",
    "\n",
    "#sp_tokenize(s, corpus) 사용예제로 확인\n",
    "my_corpus = ['나는 밥을 먹었습니다.', '그러나 여전히 ㅠㅠ 배가 고픕니다...']\n",
    "tensor_char, word_index_char, index_word_char = sp_tokenize_char(s_char, my_corpus)\n",
    "print(tensor_char)"
   ]
  },
  {
   "cell_type": "code",
   "execution_count": 19,
   "metadata": {},
   "outputs": [
    {
     "name": "stdout",
     "output_type": "stream",
     "text": [
      "(195339, 100)\n"
     ]
    }
   ],
   "source": [
    "tensor_char, word_index_char, index_word_char = sp_tokenize_char(s_char, data)\n",
    "print(tensor_char.shape)"
   ]
  },
  {
   "cell_type": "code",
   "execution_count": 20,
   "metadata": {},
   "outputs": [
    {
     "name": "stdout",
     "output_type": "stream",
     "text": [
      "[[   0    0    0    0    0    0    0    0    0    0    0    0    0    0\n",
      "     0    0    0    0    0    0    0    0    0    0    0    0    0    0\n",
      "     0    0    0    0    0    0    0    0    0    0    0    0    0    0\n",
      "     0    0    0    0    0    0    0    0    0    0    0    0    0    0\n",
      "     0    0    0    0    0    0    0    0    0    0    0    0    0    0\n",
      "     0    0    0    0    0    0    0    0    0    0    0    0    0    0\n",
      "     0    0    0    3   17    7    3  773   33    3  295   77  137   35\n",
      "     6    4]\n",
      " [   0    0    0    0    0    0    0    0    0    0    0    0    0    0\n",
      "     0    0    0    0    0    0    0    0    0    0    0    0    0    0\n",
      "     0    0    0    0    0    0    0    0    0    0    0    0    0    0\n",
      "     0    0    0    0    0    0    0    0    0    0    0    0    0    0\n",
      "     0    0    0    0    0    0    0    0    0    0    0    0    0    0\n",
      "     0    0    0    0    0    0    0    0    3   38  117   17    3   80\n",
      "    64  125    3   94   94    3  119   12    3   10 1352   35    6    4\n",
      "     4    4]]\n"
     ]
    }
   ],
   "source": [
    "# word\n",
    "def sp_tokenize_word(s_word, corpus):\n",
    "\n",
    "    tensor = []\n",
    "\n",
    "    for sen in corpus:\n",
    "        tensor.append(s_char.EncodeAsIds(sen))\n",
    "\n",
    "    with open(\"./naver_review_spm_word.vocab\", 'r') as f: # word 타입 vocab\n",
    "        vocab = f.readlines()\n",
    "\n",
    "    word_index = {}\n",
    "    index_word = {}\n",
    "\n",
    "    for idx, line in enumerate(vocab):\n",
    "        word = line.split(\"\\t\")[0]\n",
    "\n",
    "        word_index.update({idx:word})\n",
    "        index_word.update({word:idx})\n",
    "\n",
    "    tensor = tf.keras.preprocessing.sequence.pad_sequences(tensor, padding='pre', maxlen = 100) \n",
    "    # tensor = tf.keras.preprocessing.sequence.pad_sequences(tensor, padding='post', maxlen = 100) \n",
    "    return tensor, word_index, index_word\n",
    "\n",
    "#sp_tokenize(s, corpus) 사용예제로 확인\n",
    "my_corpus = ['나는 밥을 먹었습니다.', '그러나 여전히 ㅠㅠ 배가 고픕니다...']\n",
    "tensor_word, word_index_word, index_word_word = sp_tokenize_word(s_word, my_corpus)\n",
    "print(tensor_word)"
   ]
  },
  {
   "cell_type": "code",
   "execution_count": 21,
   "metadata": {},
   "outputs": [
    {
     "name": "stdout",
     "output_type": "stream",
     "text": [
      "(195339, 100)\n"
     ]
    }
   ],
   "source": [
    "tensor_word, word_index_word, index_word_word = sp_tokenize_word(s_word, data)\n",
    "print(tensor_word.shape)"
   ]
  },
  {
   "cell_type": "markdown",
   "metadata": {},
   "source": [
    "#### 구현된 토크나이저를 적용하여 네이버 영화리뷰 감정 분석 모델을 재학습\n",
    "* 토크나이저로 RNN 모델 학습\n",
    "* train, val, test 분할"
   ]
  },
  {
   "cell_type": "code",
   "execution_count": 22,
   "metadata": {},
   "outputs": [
    {
     "name": "stdout",
     "output_type": "stream",
     "text": [
      "(96182, 100)\n",
      "(96182,)\n"
     ]
    }
   ],
   "source": [
    "# unigram train, val, test 분할\n",
    "X_train = tensor_uni[:146182]\n",
    "X_test = tensor_uni[146182:]\n",
    "\n",
    "y_train = np.array(list(train_data['label']))\n",
    "y_test = np.array(list(test_data['label']))\n",
    "\n",
    "# validation set 50000건 분리\n",
    "x_val = X_train[:50000]   \n",
    "y_val = y_train[:50000]\n",
    "\n",
    "# validation set을 제외한 나머지 \n",
    "partial_X_train = X_train[50000:]  \n",
    "partial_y_train = y_train[50000:]\n",
    "\n",
    "print(partial_X_train.shape)\n",
    "print(partial_y_train.shape)"
   ]
  },
  {
   "cell_type": "code",
   "execution_count": 23,
   "metadata": {},
   "outputs": [
    {
     "name": "stdout",
     "output_type": "stream",
     "text": [
      "Model: \"sequential\"\n",
      "_________________________________________________________________\n",
      "Layer (type)                 Output Shape              Param #   \n",
      "=================================================================\n",
      "embedding (Embedding)        (None, None, 16)          160000    \n",
      "_________________________________________________________________\n",
      "lstm (LSTM)                  (None, 12)                1392      \n",
      "_________________________________________________________________\n",
      "dense (Dense)                (None, 8)                 104       \n",
      "_________________________________________________________________\n",
      "dense_1 (Dense)              (None, 1)                 9         \n",
      "=================================================================\n",
      "Total params: 161,505\n",
      "Trainable params: 161,505\n",
      "Non-trainable params: 0\n",
      "_________________________________________________________________\n"
     ]
    }
   ],
   "source": [
    "import numpy as np\n",
    "import tensorflow as tf\n",
    "from tensorflow import keras\n",
    "\n",
    "vocab_size = 10000    \n",
    "word_vector_dim = 16\n",
    "\n",
    "model_rnn = keras.Sequential()\n",
    "model_rnn.add(keras.layers.Embedding(vocab_size, word_vector_dim, input_shape=(None,)))\n",
    "model_rnn.add(keras.layers.LSTM(12))   \n",
    "model_rnn.add(keras.layers.Dense(8, activation='relu'))\n",
    "model_rnn.add(keras.layers.Dense(1, activation='sigmoid'))  \n",
    "\n",
    "model_rnn.summary()"
   ]
  },
  {
   "cell_type": "code",
   "execution_count": 24,
   "metadata": {},
   "outputs": [
    {
     "name": "stdout",
     "output_type": "stream",
     "text": [
      "Epoch 1/20\n",
      "188/188 [==============================] - 5s 11ms/step - loss: 0.5561 - accuracy: 0.7472 - val_loss: 0.4009 - val_accuracy: 0.8402\n",
      "Epoch 2/20\n",
      "188/188 [==============================] - 2s 9ms/step - loss: 0.3544 - accuracy: 0.8517 - val_loss: 0.3498 - val_accuracy: 0.8512\n",
      "Epoch 3/20\n",
      "188/188 [==============================] - 2s 8ms/step - loss: 0.3192 - accuracy: 0.8664 - val_loss: 0.3492 - val_accuracy: 0.8508\n",
      "Epoch 4/20\n",
      "188/188 [==============================] - 2s 9ms/step - loss: 0.3068 - accuracy: 0.8725 - val_loss: 0.3484 - val_accuracy: 0.8507\n",
      "Epoch 5/20\n",
      "188/188 [==============================] - 2s 8ms/step - loss: 0.2986 - accuracy: 0.8758 - val_loss: 0.3489 - val_accuracy: 0.8512\n",
      "Epoch 6/20\n",
      "188/188 [==============================] - 2s 8ms/step - loss: 0.2917 - accuracy: 0.8788 - val_loss: 0.3503 - val_accuracy: 0.8510\n",
      "Epoch 7/20\n",
      "188/188 [==============================] - 2s 8ms/step - loss: 0.2847 - accuracy: 0.8821 - val_loss: 0.3554 - val_accuracy: 0.8495\n",
      "Epoch 8/20\n",
      "188/188 [==============================] - 2s 8ms/step - loss: 0.2780 - accuracy: 0.8839 - val_loss: 0.3532 - val_accuracy: 0.8502\n",
      "Epoch 9/20\n",
      "188/188 [==============================] - 2s 9ms/step - loss: 0.2697 - accuracy: 0.8888 - val_loss: 0.3568 - val_accuracy: 0.8508\n",
      "Epoch 10/20\n",
      "188/188 [==============================] - 2s 8ms/step - loss: 0.2597 - accuracy: 0.8933 - val_loss: 0.3614 - val_accuracy: 0.8505\n",
      "Epoch 11/20\n",
      "188/188 [==============================] - 2s 8ms/step - loss: 0.2501 - accuracy: 0.8981 - val_loss: 0.3667 - val_accuracy: 0.8492\n",
      "Epoch 12/20\n",
      "188/188 [==============================] - 2s 8ms/step - loss: 0.2398 - accuracy: 0.9028 - val_loss: 0.3783 - val_accuracy: 0.8478\n",
      "Epoch 13/20\n",
      "188/188 [==============================] - 2s 8ms/step - loss: 0.2307 - accuracy: 0.9076 - val_loss: 0.3854 - val_accuracy: 0.8470\n",
      "Epoch 14/20\n",
      "188/188 [==============================] - 2s 8ms/step - loss: 0.2198 - accuracy: 0.9114 - val_loss: 0.4039 - val_accuracy: 0.8451\n",
      "Epoch 15/20\n",
      "188/188 [==============================] - 2s 9ms/step - loss: 0.2115 - accuracy: 0.9151 - val_loss: 0.4209 - val_accuracy: 0.8436\n",
      "Epoch 16/20\n",
      "188/188 [==============================] - 2s 8ms/step - loss: 0.2043 - accuracy: 0.9183 - val_loss: 0.4322 - val_accuracy: 0.8426\n",
      "Epoch 17/20\n",
      "188/188 [==============================] - 2s 8ms/step - loss: 0.1963 - accuracy: 0.9216 - val_loss: 0.4335 - val_accuracy: 0.8392\n",
      "Epoch 18/20\n",
      "188/188 [==============================] - 2s 8ms/step - loss: 0.1891 - accuracy: 0.9249 - val_loss: 0.4907 - val_accuracy: 0.8386\n",
      "Epoch 19/20\n",
      "188/188 [==============================] - 2s 8ms/step - loss: 0.1831 - accuracy: 0.9275 - val_loss: 0.4748 - val_accuracy: 0.8366\n",
      "Epoch 20/20\n",
      "188/188 [==============================] - 2s 8ms/step - loss: 0.1801 - accuracy: 0.9288 - val_loss: 0.5544 - val_accuracy: 0.8371\n"
     ]
    }
   ],
   "source": [
    "model_rnn.compile(optimizer='adam',\n",
    "              loss='binary_crossentropy',\n",
    "              metrics=['accuracy'])\n",
    "              \n",
    "epochs = 20\n",
    "\n",
    "history_rnn = model_rnn.fit(partial_X_train,\n",
    "                    partial_y_train,\n",
    "                    epochs=epochs,\n",
    "                    batch_size=512,\n",
    "                    validation_data=(x_val, y_val),\n",
    "                    verbose=1)"
   ]
  },
  {
   "cell_type": "code",
   "execution_count": 25,
   "metadata": {},
   "outputs": [
    {
     "name": "stdout",
     "output_type": "stream",
     "text": [
      "1537/1537 - 4s - loss: 0.5691 - accuracy: 0.8331\n",
      "[0.5690986514091492, 0.8330655097961426]\n",
      "dict_keys(['loss', 'accuracy', 'val_loss', 'val_accuracy'])\n"
     ]
    },
    {
     "data": {
      "image/png": "[encoded data removed]",
      "text/plain": [
       "<Figure size 432x288 with 1 Axes>"
      ]
     },
     "metadata": {
      "needs_background": "light"
     },
     "output_type": "display_data"
    },
    {
     "data": {
      "image/png": "[encoded data removed]",
      "text/plain": [
       "<Figure size 432x288 with 1 Axes>"
      ]
     },
     "metadata": {
      "needs_background": "light"
     },
     "output_type": "display_data"
    }
   ],
   "source": [
    "# 평가하기\n",
    "results_rnn = model_rnn.evaluate(X_test, y_test, verbose=2)\n",
    "print(results_rnn)\n",
    "\n",
    "history_dict_rnn = history_rnn.history\n",
    "print(history_dict_rnn.keys()) # epoch에 따른 그래프를 그려볼 수 있는 항목들\n",
    "\n",
    "# train과 val의 Loss\n",
    "acc_rnn = history_dict_rnn['accuracy']\n",
    "val_acc_rnn = history_dict_rnn['val_accuracy']\n",
    "loss_rnn = history_dict_rnn['loss']\n",
    "val_loss_rnn = history_dict_rnn['val_loss']\n",
    "\n",
    "epochs_rnn = range(1, len(acc_rnn) + 1)\n",
    "\n",
    "# \"bo\"는 \"파란색 점\"\n",
    "plt.plot(epochs_rnn, loss_rnn, 'bo', label='Training loss')\n",
    "# b는 \"파란 실선\"\n",
    "plt.plot(epochs_rnn, val_loss_rnn, 'b', label='Validation loss')\n",
    "plt.title('RNN\\'s Training & validation loss')\n",
    "plt.xlabel('Epochs')\n",
    "plt.ylabel('Loss')\n",
    "plt.legend()\n",
    "\n",
    "plt.show()\n",
    "\n",
    "# train과 val의 accuracy\n",
    "plt.clf()  \n",
    "\n",
    "plt.plot(epochs_rnn, acc_rnn, 'bo', label='Training acc')\n",
    "plt.plot(epochs_rnn, val_acc_rnn, 'b', label='Validation acc')\n",
    "plt.title('RNN\\'s Training and validation accuracy')\n",
    "plt.xlabel('Epochs')\n",
    "plt.ylabel('Accuracy')\n",
    "plt.legend()\n",
    "\n",
    "plt.show()"
   ]
  },
  {
   "cell_type": "code",
   "execution_count": 26,
   "metadata": {},
   "outputs": [
    {
     "name": "stdout",
     "output_type": "stream",
     "text": [
      "(96182, 100)\n",
      "(96182,)\n"
     ]
    }
   ],
   "source": [
    "# BPE train, val, test 분할\n",
    "X_train = tensor_bpe[:146182]\n",
    "X_test = tensor_bpe[146182:]\n",
    "\n",
    "y_train = np.array(list(train_data['label']))\n",
    "y_test = np.array(list(test_data['label']))\n",
    "\n",
    "# validation set 50000건 분리\n",
    "x_val = X_train[:50000]   \n",
    "y_val = y_train[:50000]\n",
    "\n",
    "# validation set을 제외한 나머지 \n",
    "partial_X_train = X_train[50000:]  \n",
    "partial_y_train = y_train[50000:]\n",
    "\n",
    "print(partial_X_train.shape)\n",
    "print(partial_y_train.shape)"
   ]
  },
  {
   "cell_type": "code",
   "execution_count": 27,
   "metadata": {},
   "outputs": [
    {
     "name": "stdout",
     "output_type": "stream",
     "text": [
      "Model: \"sequential_1\"\n",
      "_________________________________________________________________\n",
      "Layer (type)                 Output Shape              Param #   \n",
      "=================================================================\n",
      "embedding_1 (Embedding)      (None, None, 16)          160000    \n",
      "_________________________________________________________________\n",
      "lstm_1 (LSTM)                (None, 12)                1392      \n",
      "_________________________________________________________________\n",
      "dense_2 (Dense)              (None, 8)                 104       \n",
      "_________________________________________________________________\n",
      "dense_3 (Dense)              (None, 1)                 9         \n",
      "=================================================================\n",
      "Total params: 161,505\n",
      "Trainable params: 161,505\n",
      "Non-trainable params: 0\n",
      "_________________________________________________________________\n"
     ]
    }
   ],
   "source": [
    "import numpy as np\n",
    "import tensorflow as tf\n",
    "from tensorflow import keras\n",
    "\n",
    "vocab_size = 10000    \n",
    "word_vector_dim = 16\n",
    "\n",
    "model_rnn = keras.Sequential()\n",
    "model_rnn.add(keras.layers.Embedding(vocab_size, word_vector_dim, input_shape=(None,)))\n",
    "model_rnn.add(keras.layers.LSTM(12))   \n",
    "model_rnn.add(keras.layers.Dense(8, activation='relu'))\n",
    "model_rnn.add(keras.layers.Dense(1, activation='sigmoid'))  \n",
    "\n",
    "model_rnn.summary()"
   ]
  },
  {
   "cell_type": "code",
   "execution_count": 28,
   "metadata": {},
   "outputs": [
    {
     "name": "stdout",
     "output_type": "stream",
     "text": [
      "Epoch 1/20\n",
      "188/188 [==============================] - 4s 11ms/step - loss: 0.5160 - accuracy: 0.7648 - val_loss: 0.3689 - val_accuracy: 0.8403\n",
      "Epoch 2/20\n",
      "188/188 [==============================] - 2s 8ms/step - loss: 0.3390 - accuracy: 0.8557 - val_loss: 0.3487 - val_accuracy: 0.8505\n",
      "Epoch 3/20\n",
      "188/188 [==============================] - 2s 10ms/step - loss: 0.3174 - accuracy: 0.8666 - val_loss: 0.3502 - val_accuracy: 0.8501\n",
      "Epoch 4/20\n",
      "188/188 [==============================] - 2s 10ms/step - loss: 0.3072 - accuracy: 0.8720 - val_loss: 0.3512 - val_accuracy: 0.8500\n",
      "Epoch 5/20\n",
      "188/188 [==============================] - 2s 10ms/step - loss: 0.3015 - accuracy: 0.8751 - val_loss: 0.3555 - val_accuracy: 0.8470\n",
      "Epoch 6/20\n",
      "188/188 [==============================] - 2s 9ms/step - loss: 0.2943 - accuracy: 0.8783 - val_loss: 0.3549 - val_accuracy: 0.8481\n",
      "Epoch 7/20\n",
      "188/188 [==============================] - 2s 8ms/step - loss: 0.2851 - accuracy: 0.8839 - val_loss: 0.3571 - val_accuracy: 0.8497\n",
      "Epoch 8/20\n",
      "188/188 [==============================] - 2s 8ms/step - loss: 0.2761 - accuracy: 0.8881 - val_loss: 0.3614 - val_accuracy: 0.8465\n",
      "Epoch 9/20\n",
      "188/188 [==============================] - 2s 8ms/step - loss: 0.2655 - accuracy: 0.8941 - val_loss: 0.3631 - val_accuracy: 0.8465\n",
      "Epoch 10/20\n",
      "188/188 [==============================] - 2s 8ms/step - loss: 0.2579 - accuracy: 0.8977 - val_loss: 0.3697 - val_accuracy: 0.8445\n",
      "Epoch 11/20\n",
      "188/188 [==============================] - 2s 9ms/step - loss: 0.2490 - accuracy: 0.9025 - val_loss: 0.3839 - val_accuracy: 0.8425\n",
      "Epoch 12/20\n",
      "188/188 [==============================] - 2s 8ms/step - loss: 0.2422 - accuracy: 0.9054 - val_loss: 0.3898 - val_accuracy: 0.8431\n",
      "Epoch 13/20\n",
      "188/188 [==============================] - 2s 8ms/step - loss: 0.2347 - accuracy: 0.9096 - val_loss: 0.3915 - val_accuracy: 0.8409\n",
      "Epoch 14/20\n",
      "188/188 [==============================] - 2s 9ms/step - loss: 0.2274 - accuracy: 0.9138 - val_loss: 0.4092 - val_accuracy: 0.8404\n",
      "Epoch 15/20\n",
      "188/188 [==============================] - 2s 8ms/step - loss: 0.2182 - accuracy: 0.9170 - val_loss: 0.4048 - val_accuracy: 0.8394\n",
      "Epoch 16/20\n",
      "188/188 [==============================] - 2s 8ms/step - loss: 0.2102 - accuracy: 0.9219 - val_loss: 0.4297 - val_accuracy: 0.8371\n",
      "Epoch 17/20\n",
      "188/188 [==============================] - 2s 8ms/step - loss: 0.2007 - accuracy: 0.9258 - val_loss: 0.4348 - val_accuracy: 0.8371\n",
      "Epoch 18/20\n",
      "188/188 [==============================] - 2s 9ms/step - loss: 0.1912 - accuracy: 0.9306 - val_loss: 0.4476 - val_accuracy: 0.8354\n",
      "Epoch 19/20\n",
      "188/188 [==============================] - 2s 8ms/step - loss: 0.1826 - accuracy: 0.9338 - val_loss: 0.4934 - val_accuracy: 0.8335\n",
      "Epoch 20/20\n",
      "188/188 [==============================] - 2s 8ms/step - loss: 0.1726 - accuracy: 0.9384 - val_loss: 0.4841 - val_accuracy: 0.8327\n"
     ]
    }
   ],
   "source": [
    "model_rnn.compile(optimizer='adam',\n",
    "              loss='binary_crossentropy',\n",
    "              metrics=['accuracy'])\n",
    "              \n",
    "epochs = 20\n",
    "\n",
    "history_rnn = model_rnn.fit(partial_X_train,\n",
    "                    partial_y_train,\n",
    "                    epochs=epochs,\n",
    "                    batch_size=512,\n",
    "                    validation_data=(x_val, y_val),\n",
    "                    verbose=1)"
   ]
  },
  {
   "cell_type": "code",
   "execution_count": 29,
   "metadata": {},
   "outputs": [
    {
     "name": "stdout",
     "output_type": "stream",
     "text": [
      "1537/1537 - 4s - loss: 0.4920 - accuracy: 0.8297\n",
      "[0.4920137822628021, 0.8296682238578796]\n",
      "dict_keys(['loss', 'accuracy', 'val_loss', 'val_accuracy'])\n"
     ]
    },
    {
     "data": {
      "image/png": "[encoded data removed]",
      "text/plain": [
       "<Figure size 432x288 with 1 Axes>"
      ]
     },
     "metadata": {
      "needs_background": "light"
     },
     "output_type": "display_data"
    },
    {
     "data": {
      "image/png": "[encoded data removed]",
      "text/plain": [
       "<Figure size 432x288 with 1 Axes>"
      ]
     },
     "metadata": {
      "needs_background": "light"
     },
     "output_type": "display_data"
    }
   ],
   "source": [
    "# 평가하기\n",
    "results_rnn = model_rnn.evaluate(X_test, y_test, verbose=2)\n",
    "print(results_rnn)\n",
    "\n",
    "history_dict_rnn = history_rnn.history\n",
    "print(history_dict_rnn.keys()) # epoch에 따른 그래프를 그려볼 수 있는 항목들\n",
    "\n",
    "# train과 val의 Loss\n",
    "acc_rnn = history_dict_rnn['accuracy']\n",
    "val_acc_rnn = history_dict_rnn['val_accuracy']\n",
    "loss_rnn = history_dict_rnn['loss']\n",
    "val_loss_rnn = history_dict_rnn['val_loss']\n",
    "\n",
    "epochs_rnn = range(1, len(acc_rnn) + 1)\n",
    "\n",
    "# \"bo\"는 \"파란색 점\"\n",
    "plt.plot(epochs_rnn, loss_rnn, 'bo', label='Training loss')\n",
    "# b는 \"파란 실선\"\n",
    "plt.plot(epochs_rnn, val_loss_rnn, 'b', label='Validation loss')\n",
    "plt.title('RNN\\'s Training & validation loss')\n",
    "plt.xlabel('Epochs')\n",
    "plt.ylabel('Loss')\n",
    "plt.legend()\n",
    "\n",
    "plt.show()\n",
    "\n",
    "# train과 val의 accuracy\n",
    "plt.clf()  \n",
    "\n",
    "plt.plot(epochs_rnn, acc_rnn, 'bo', label='Training acc')\n",
    "plt.plot(epochs_rnn, val_acc_rnn, 'b', label='Validation acc')\n",
    "plt.title('RNN\\'s Training and validation accuracy')\n",
    "plt.xlabel('Epochs')\n",
    "plt.ylabel('Accuracy')\n",
    "plt.legend()\n",
    "\n",
    "plt.show()"
   ]
  },
  {
   "cell_type": "code",
   "execution_count": 30,
   "metadata": {},
   "outputs": [
    {
     "name": "stdout",
     "output_type": "stream",
     "text": [
      "(96182, 100)\n",
      "(96182,)\n"
     ]
    }
   ],
   "source": [
    "# CHAR train, val, test 분할\n",
    "X_train = tensor_char[:146182]\n",
    "X_test = tensor_char[146182:]\n",
    "\n",
    "y_train = np.array(list(train_data['label']))\n",
    "y_test = np.array(list(test_data['label']))\n",
    "\n",
    "# validation set 50000건 분리\n",
    "x_val = X_train[:50000]   \n",
    "y_val = y_train[:50000]\n",
    "\n",
    "# validation set을 제외한 나머지 \n",
    "partial_X_train = X_train[50000:]  \n",
    "partial_y_train = y_train[50000:]\n",
    "\n",
    "print(partial_X_train.shape)\n",
    "print(partial_y_train.shape)"
   ]
  },
  {
   "cell_type": "code",
   "execution_count": 31,
   "metadata": {},
   "outputs": [
    {
     "name": "stdout",
     "output_type": "stream",
     "text": [
      "Model: \"sequential_2\"\n",
      "_________________________________________________________________\n",
      "Layer (type)                 Output Shape              Param #   \n",
      "=================================================================\n",
      "embedding_2 (Embedding)      (None, None, 16)          160000    \n",
      "_________________________________________________________________\n",
      "lstm_2 (LSTM)                (None, 12)                1392      \n",
      "_________________________________________________________________\n",
      "dense_4 (Dense)              (None, 8)                 104       \n",
      "_________________________________________________________________\n",
      "dense_5 (Dense)              (None, 1)                 9         \n",
      "=================================================================\n",
      "Total params: 161,505\n",
      "Trainable params: 161,505\n",
      "Non-trainable params: 0\n",
      "_________________________________________________________________\n"
     ]
    }
   ],
   "source": [
    "import numpy as np\n",
    "import tensorflow as tf\n",
    "from tensorflow import keras\n",
    "\n",
    "vocab_size = 10000    \n",
    "word_vector_dim = 16\n",
    "\n",
    "model_rnn = keras.Sequential()\n",
    "model_rnn.add(keras.layers.Embedding(vocab_size, word_vector_dim, input_shape=(None,)))\n",
    "model_rnn.add(keras.layers.LSTM(12))   \n",
    "model_rnn.add(keras.layers.Dense(8, activation='relu'))\n",
    "model_rnn.add(keras.layers.Dense(1, activation='sigmoid'))  \n",
    "\n",
    "model_rnn.summary()"
   ]
  },
  {
   "cell_type": "code",
   "execution_count": 32,
   "metadata": {},
   "outputs": [
    {
     "name": "stdout",
     "output_type": "stream",
     "text": [
      "Epoch 1/20\n",
      "188/188 [==============================] - 3s 11ms/step - loss: 0.5507 - accuracy: 0.7276 - val_loss: 0.4557 - val_accuracy: 0.7897\n",
      "Epoch 2/20\n",
      "188/188 [==============================] - 2s 9ms/step - loss: 0.4495 - accuracy: 0.7927 - val_loss: 0.4375 - val_accuracy: 0.7989\n",
      "Epoch 3/20\n",
      "188/188 [==============================] - 2s 8ms/step - loss: 0.4363 - accuracy: 0.8001 - val_loss: 0.4299 - val_accuracy: 0.8031\n",
      "Epoch 4/20\n",
      "188/188 [==============================] - 2s 8ms/step - loss: 0.4273 - accuracy: 0.8051 - val_loss: 0.4261 - val_accuracy: 0.8043\n",
      "Epoch 5/20\n",
      "188/188 [==============================] - 2s 8ms/step - loss: 0.4197 - accuracy: 0.8096 - val_loss: 0.4218 - val_accuracy: 0.8057\n",
      "Epoch 6/20\n",
      "188/188 [==============================] - 2s 9ms/step - loss: 0.4118 - accuracy: 0.8124 - val_loss: 0.4164 - val_accuracy: 0.8080\n",
      "Epoch 7/20\n",
      "188/188 [==============================] - 2s 8ms/step - loss: 0.4042 - accuracy: 0.8165 - val_loss: 0.4104 - val_accuracy: 0.8108\n",
      "Epoch 8/20\n",
      "188/188 [==============================] - 2s 8ms/step - loss: 0.3958 - accuracy: 0.8202 - val_loss: 0.4082 - val_accuracy: 0.8142\n",
      "Epoch 9/20\n",
      "188/188 [==============================] - 2s 9ms/step - loss: 0.3888 - accuracy: 0.8240 - val_loss: 0.4053 - val_accuracy: 0.8148\n",
      "Epoch 10/20\n",
      "188/188 [==============================] - 2s 8ms/step - loss: 0.3823 - accuracy: 0.8273 - val_loss: 0.3999 - val_accuracy: 0.8168\n",
      "Epoch 11/20\n",
      "188/188 [==============================] - 2s 8ms/step - loss: 0.3761 - accuracy: 0.8304 - val_loss: 0.3974 - val_accuracy: 0.8195\n",
      "Epoch 12/20\n",
      "188/188 [==============================] - 2s 9ms/step - loss: 0.3721 - accuracy: 0.8332 - val_loss: 0.3996 - val_accuracy: 0.8188\n",
      "Epoch 13/20\n",
      "188/188 [==============================] - 2s 8ms/step - loss: 0.3659 - accuracy: 0.8373 - val_loss: 0.3949 - val_accuracy: 0.8221\n",
      "Epoch 14/20\n",
      "188/188 [==============================] - 2s 8ms/step - loss: 0.3612 - accuracy: 0.8390 - val_loss: 0.3901 - val_accuracy: 0.8242\n",
      "Epoch 15/20\n",
      "188/188 [==============================] - 2s 8ms/step - loss: 0.3565 - accuracy: 0.8417 - val_loss: 0.3906 - val_accuracy: 0.8239\n",
      "Epoch 16/20\n",
      "188/188 [==============================] - 2s 9ms/step - loss: 0.3534 - accuracy: 0.8439 - val_loss: 0.3930 - val_accuracy: 0.8208\n",
      "Epoch 17/20\n",
      "188/188 [==============================] - 2s 10ms/step - loss: 0.3499 - accuracy: 0.8455 - val_loss: 0.3898 - val_accuracy: 0.8258\n",
      "Epoch 18/20\n",
      "188/188 [==============================] - 2s 10ms/step - loss: 0.3448 - accuracy: 0.8489 - val_loss: 0.3858 - val_accuracy: 0.8257\n",
      "Epoch 19/20\n",
      "188/188 [==============================] - 2s 9ms/step - loss: 0.3417 - accuracy: 0.8502 - val_loss: 0.3923 - val_accuracy: 0.8208\n",
      "Epoch 20/20\n",
      "188/188 [==============================] - 2s 8ms/step - loss: 0.3383 - accuracy: 0.8522 - val_loss: 0.3883 - val_accuracy: 0.8273\n"
     ]
    }
   ],
   "source": [
    "model_rnn.compile(optimizer='adam',\n",
    "              loss='binary_crossentropy',\n",
    "              metrics=['accuracy'])\n",
    "              \n",
    "epochs = 20\n",
    "\n",
    "history_rnn = model_rnn.fit(partial_X_train,\n",
    "                    partial_y_train,\n",
    "                    epochs=epochs,\n",
    "                    batch_size=512,\n",
    "                    validation_data=(x_val, y_val),\n",
    "                    verbose=1)"
   ]
  },
  {
   "cell_type": "code",
   "execution_count": 33,
   "metadata": {},
   "outputs": [
    {
     "name": "stdout",
     "output_type": "stream",
     "text": [
      "1537/1537 - 4s - loss: 0.3952 - accuracy: 0.8250\n",
      "[0.3952397108078003, 0.8250300288200378]\n",
      "dict_keys(['loss', 'accuracy', 'val_loss', 'val_accuracy'])\n"
     ]
    },
    {
     "data": {
      "image/png": "[encoded data removed]",
      "text/plain": [
       "<Figure size 432x288 with 1 Axes>"
      ]
     },
     "metadata": {
      "needs_background": "light"
     },
     "output_type": "display_data"
    },
    {
     "data": {
      "image/png": "[encoded data removed]",
      "text/plain": [
       "<Figure size 432x288 with 1 Axes>"
      ]
     },
     "metadata": {
      "needs_background": "light"
     },
     "output_type": "display_data"
    }
   ],
   "source": [
    "# 평가하기\n",
    "results_rnn = model_rnn.evaluate(X_test, y_test, verbose=2)\n",
    "print(results_rnn)\n",
    "\n",
    "history_dict_rnn = history_rnn.history\n",
    "print(history_dict_rnn.keys()) # epoch에 따른 그래프를 그려볼 수 있는 항목들\n",
    "\n",
    "# train과 val의 Loss\n",
    "acc_rnn = history_dict_rnn['accuracy']\n",
    "val_acc_rnn = history_dict_rnn['val_accuracy']\n",
    "loss_rnn = history_dict_rnn['loss']\n",
    "val_loss_rnn = history_dict_rnn['val_loss']\n",
    "\n",
    "epochs_rnn = range(1, len(acc_rnn) + 1)\n",
    "\n",
    "# \"bo\"는 \"파란색 점\"\n",
    "plt.plot(epochs_rnn, loss_rnn, 'bo', label='Training loss')\n",
    "# b는 \"파란 실선\"\n",
    "plt.plot(epochs_rnn, val_loss_rnn, 'b', label='Validation loss')\n",
    "plt.title('RNN\\'s Training & validation loss')\n",
    "plt.xlabel('Epochs')\n",
    "plt.ylabel('Loss')\n",
    "plt.legend()\n",
    "\n",
    "plt.show()\n",
    "\n",
    "# train과 val의 accuracy\n",
    "plt.clf()  \n",
    "\n",
    "plt.plot(epochs_rnn, acc_rnn, 'bo', label='Training acc')\n",
    "plt.plot(epochs_rnn, val_acc_rnn, 'b', label='Validation acc')\n",
    "plt.title('RNN\\'s Training and validation accuracy')\n",
    "plt.xlabel('Epochs')\n",
    "plt.ylabel('Accuracy')\n",
    "plt.legend()\n",
    "\n",
    "plt.show()"
   ]
  },
  {
   "cell_type": "code",
   "execution_count": 34,
   "metadata": {},
   "outputs": [
    {
     "name": "stdout",
     "output_type": "stream",
     "text": [
      "(96182, 100)\n",
      "(96182,)\n"
     ]
    }
   ],
   "source": [
    "# WORD train, val, test 분할\n",
    "X_train = tensor_word[:146182]\n",
    "X_test = tensor_word[146182:]\n",
    "\n",
    "y_train = np.array(list(train_data['label']))\n",
    "y_test = np.array(list(test_data['label']))\n",
    "\n",
    "# validation set 50000건 분리\n",
    "x_val = X_train[:50000]   \n",
    "y_val = y_train[:50000]\n",
    "\n",
    "# validation set을 제외한 나머지 \n",
    "partial_X_train = X_train[50000:]  \n",
    "partial_y_train = y_train[50000:]\n",
    "\n",
    "print(partial_X_train.shape)\n",
    "print(partial_y_train.shape)"
   ]
  },
  {
   "cell_type": "code",
   "execution_count": 35,
   "metadata": {},
   "outputs": [
    {
     "name": "stdout",
     "output_type": "stream",
     "text": [
      "Model: \"sequential_3\"\n",
      "_________________________________________________________________\n",
      "Layer (type)                 Output Shape              Param #   \n",
      "=================================================================\n",
      "embedding_3 (Embedding)      (None, None, 16)          160000    \n",
      "_________________________________________________________________\n",
      "lstm_3 (LSTM)                (None, 12)                1392      \n",
      "_________________________________________________________________\n",
      "dense_6 (Dense)              (None, 8)                 104       \n",
      "_________________________________________________________________\n",
      "dense_7 (Dense)              (None, 1)                 9         \n",
      "=================================================================\n",
      "Total params: 161,505\n",
      "Trainable params: 161,505\n",
      "Non-trainable params: 0\n",
      "_________________________________________________________________\n"
     ]
    }
   ],
   "source": [
    "import numpy as np\n",
    "import tensorflow as tf\n",
    "from tensorflow import keras\n",
    "\n",
    "vocab_size = 10000    \n",
    "word_vector_dim = 16\n",
    "\n",
    "model_rnn = keras.Sequential()\n",
    "model_rnn.add(keras.layers.Embedding(vocab_size, word_vector_dim, input_shape=(None,)))\n",
    "model_rnn.add(keras.layers.LSTM(12))   \n",
    "model_rnn.add(keras.layers.Dense(8, activation='relu'))\n",
    "model_rnn.add(keras.layers.Dense(1, activation='sigmoid'))  \n",
    "\n",
    "model_rnn.summary()"
   ]
  },
  {
   "cell_type": "code",
   "execution_count": 36,
   "metadata": {},
   "outputs": [
    {
     "name": "stdout",
     "output_type": "stream",
     "text": [
      "Epoch 1/20\n",
      "188/188 [==============================] - 4s 11ms/step - loss: 0.5775 - accuracy: 0.7026 - val_loss: 0.4794 - val_accuracy: 0.7742\n",
      "Epoch 2/20\n",
      "188/188 [==============================] - 2s 8ms/step - loss: 0.4554 - accuracy: 0.7918 - val_loss: 0.4425 - val_accuracy: 0.7976\n",
      "Epoch 3/20\n",
      "188/188 [==============================] - 2s 9ms/step - loss: 0.4391 - accuracy: 0.8008 - val_loss: 0.4339 - val_accuracy: 0.8015\n",
      "Epoch 4/20\n",
      "188/188 [==============================] - 2s 8ms/step - loss: 0.4290 - accuracy: 0.8052 - val_loss: 0.4296 - val_accuracy: 0.8031\n",
      "Epoch 5/20\n",
      "188/188 [==============================] - 2s 8ms/step - loss: 0.4210 - accuracy: 0.8091 - val_loss: 0.4228 - val_accuracy: 0.8061\n",
      "Epoch 6/20\n",
      "188/188 [==============================] - 2s 8ms/step - loss: 0.4141 - accuracy: 0.8122 - val_loss: 0.4197 - val_accuracy: 0.8075\n",
      "Epoch 7/20\n",
      "188/188 [==============================] - 2s 9ms/step - loss: 0.4084 - accuracy: 0.8143 - val_loss: 0.4179 - val_accuracy: 0.8064\n",
      "Epoch 8/20\n",
      "188/188 [==============================] - 2s 8ms/step - loss: 0.4028 - accuracy: 0.8166 - val_loss: 0.4157 - val_accuracy: 0.8089\n",
      "Epoch 9/20\n",
      "188/188 [==============================] - 2s 8ms/step - loss: 0.3965 - accuracy: 0.8194 - val_loss: 0.4098 - val_accuracy: 0.8107\n",
      "Epoch 10/20\n",
      "188/188 [==============================] - 2s 8ms/step - loss: 0.3889 - accuracy: 0.8233 - val_loss: 0.4139 - val_accuracy: 0.8073\n",
      "Epoch 11/20\n",
      "188/188 [==============================] - 2s 8ms/step - loss: 0.3818 - accuracy: 0.8276 - val_loss: 0.3982 - val_accuracy: 0.8177\n",
      "Epoch 12/20\n",
      "188/188 [==============================] - 2s 8ms/step - loss: 0.3742 - accuracy: 0.8310 - val_loss: 0.3945 - val_accuracy: 0.8195\n",
      "Epoch 13/20\n",
      "188/188 [==============================] - 2s 9ms/step - loss: 0.3671 - accuracy: 0.8358 - val_loss: 0.3899 - val_accuracy: 0.8217\n",
      "Epoch 14/20\n",
      "188/188 [==============================] - 2s 8ms/step - loss: 0.3627 - accuracy: 0.8380 - val_loss: 0.3873 - val_accuracy: 0.8236\n",
      "Epoch 15/20\n",
      "188/188 [==============================] - 2s 8ms/step - loss: 0.3567 - accuracy: 0.8416 - val_loss: 0.3864 - val_accuracy: 0.8259\n",
      "Epoch 16/20\n",
      "188/188 [==============================] - 2s 8ms/step - loss: 0.3527 - accuracy: 0.8437 - val_loss: 0.3829 - val_accuracy: 0.8273\n",
      "Epoch 17/20\n",
      "188/188 [==============================] - 2s 8ms/step - loss: 0.3473 - accuracy: 0.8462 - val_loss: 0.3825 - val_accuracy: 0.8262\n",
      "Epoch 18/20\n",
      "188/188 [==============================] - 2s 8ms/step - loss: 0.3436 - accuracy: 0.8492 - val_loss: 0.3825 - val_accuracy: 0.8274\n",
      "Epoch 19/20\n",
      "188/188 [==============================] - 2s 9ms/step - loss: 0.3393 - accuracy: 0.8516 - val_loss: 0.3856 - val_accuracy: 0.8267\n",
      "Epoch 20/20\n",
      "188/188 [==============================] - 2s 8ms/step - loss: 0.3360 - accuracy: 0.8531 - val_loss: 0.3782 - val_accuracy: 0.8290\n"
     ]
    }
   ],
   "source": [
    "model_rnn.compile(optimizer='adam',\n",
    "              loss='binary_crossentropy',\n",
    "              metrics=['accuracy'])\n",
    "              \n",
    "epochs = 20\n",
    "\n",
    "history_rnn = model_rnn.fit(partial_X_train,\n",
    "                    partial_y_train,\n",
    "                    epochs=epochs,\n",
    "                    batch_size=512,\n",
    "                    validation_data=(x_val, y_val),\n",
    "                    verbose=1)"
   ]
  },
  {
   "cell_type": "code",
   "execution_count": 37,
   "metadata": {},
   "outputs": [
    {
     "name": "stdout",
     "output_type": "stream",
     "text": [
      "1537/1537 - 4s - loss: 0.3854 - accuracy: 0.8262\n",
      "[0.3853563964366913, 0.8261895775794983]\n",
      "dict_keys(['loss', 'accuracy', 'val_loss', 'val_accuracy'])\n"
     ]
    },
    {
     "data": {
      "image/png": "[encoded data removed]",
      "text/plain": [
       "<Figure size 432x288 with 1 Axes>"
      ]
     },
     "metadata": {
      "needs_background": "light"
     },
     "output_type": "display_data"
    },
    {
     "data": {
      "image/png": "[encoded data removed]",
      "text/plain": [
       "<Figure size 432x288 with 1 Axes>"
      ]
     },
     "metadata": {
      "needs_background": "light"
     },
     "output_type": "display_data"
    }
   ],
   "source": [
    "# 평가하기\n",
    "results_rnn = model_rnn.evaluate(X_test, y_test, verbose=2)\n",
    "print(results_rnn)\n",
    "\n",
    "history_dict_rnn = history_rnn.history\n",
    "print(history_dict_rnn.keys()) # epoch에 따른 그래프를 그려볼 수 있는 항목들\n",
    "\n",
    "# train과 val의 Loss\n",
    "acc_rnn = history_dict_rnn['accuracy']\n",
    "val_acc_rnn = history_dict_rnn['val_accuracy']\n",
    "loss_rnn = history_dict_rnn['loss']\n",
    "val_loss_rnn = history_dict_rnn['val_loss']\n",
    "\n",
    "epochs_rnn = range(1, len(acc_rnn) + 1)\n",
    "\n",
    "# \"bo\"는 \"파란색 점\"\n",
    "plt.plot(epochs_rnn, loss_rnn, 'bo', label='Training loss')\n",
    "# b는 \"파란 실선\"\n",
    "plt.plot(epochs_rnn, val_loss_rnn, 'b', label='Validation loss')\n",
    "plt.title('RNN\\'s Training & validation loss')\n",
    "plt.xlabel('Epochs')\n",
    "plt.ylabel('Loss')\n",
    "plt.legend()\n",
    "\n",
    "plt.show()\n",
    "\n",
    "# train과 val의 accuracy\n",
    "plt.clf()  \n",
    "\n",
    "plt.plot(epochs_rnn, acc_rnn, 'bo', label='Training acc')\n",
    "plt.plot(epochs_rnn, val_acc_rnn, 'b', label='Validation acc')\n",
    "plt.title('RNN\\'s Training and validation accuracy')\n",
    "plt.xlabel('Epochs')\n",
    "plt.ylabel('Accuracy')\n",
    "plt.legend()\n",
    "\n",
    "plt.show()"
   ]
  },
  {
   "cell_type": "markdown",
   "metadata": {},
   "source": [
    "#### KoNLPy 형태소 분석기를 사용한 모델과 성능 비교\n",
    "* 데이터의 중복 제거\n",
    "* NaN 결측치 제거\n",
    "* 한국어 토크나이저로 토큰화\n",
    "* 불용어(Stopwords) 제거\n",
    "* 사전word_to_index 구성\n",
    "* 텍스트 스트링을 사전 인덱스 스트링으로 변환\n",
    "* X_train, y_train, X_test, y_test, word_to_index 리턴\n",
    "* 상기 사항들로 로더 구성"
   ]
  },
  {
   "cell_type": "code",
   "execution_count": 38,
   "metadata": {},
   "outputs": [],
   "source": [
    "from konlpy.tag import Mecab\n",
    "tokenizer = Mecab()\n",
    "stopwords = ['의','가','이','은','들','는','좀','잘','걍','과','도','를','으로','자','에','와','한','하다'] \n",
    "num_words = 10000\n",
    "\n",
    "def load_data(train_data, test_data, num_words=10000):\n",
    "    train_data.drop_duplicates(subset=['document'], inplace=True)\n",
    "    train_data = train_data.dropna(how = 'any') \n",
    "    test_data.drop_duplicates(subset=['document'], inplace=True)\n",
    "    test_data = test_data.dropna(how = 'any') \n",
    "\n",
    "    X_train = []\n",
    "    for sentence in train_data['document']:\n",
    "        temp_X = tokenizer.morphs(sentence) # 토큰화\n",
    "        temp_X = [word for word in temp_X if not word in stopwords] # 불용어 제거\n",
    "        X_train.append(temp_X)\n",
    "\n",
    "    X_test = []\n",
    "    for sentence in test_data['document']:\n",
    "        temp_X = tokenizer.morphs(sentence) # 토큰화\n",
    "        temp_X = [word for word in temp_X if not word in stopwords] # 불용어 제거\n",
    "        X_test.append(temp_X)\n",
    "\n",
    "    words = np.concatenate(X_train).tolist()\n",
    "    counter = Counter(words)\n",
    "    counter = counter.most_common(10000-4)\n",
    "    vocab = ['<PAD>', '<BOS>', '<UNK>', '<UNUSED>'] + [key for key, _ in counter]\n",
    "    word_to_index = {word:index for index, word in enumerate(vocab)}\n",
    "\n",
    "    def wordlist_to_indexlist(wordlist):\n",
    "        return [word_to_index[word] if word in word_to_index else word_to_index['<UNK>'] for word in wordlist]\n",
    "\n",
    "    X_train = list(map(wordlist_to_indexlist, X_train))\n",
    "    X_test = list(map(wordlist_to_indexlist, X_test))\n",
    "\n",
    "    return X_train, np.array(list(train_data['label'])), X_test, np.array(list(test_data['label'])), word_to_index\n",
    "\n",
    "X_train, y_train, X_test, y_test, word_to_index = load_data(train_data, test_data) "
   ]
  },
  {
   "cell_type": "code",
   "execution_count": 39,
   "metadata": {},
   "outputs": [],
   "source": [
    "index_to_word = {index:word for word, index in word_to_index.items()}"
   ]
  },
  {
   "cell_type": "code",
   "execution_count": 40,
   "metadata": {},
   "outputs": [],
   "source": [
    "# 문장 1개를 활용할 딕셔너리와 함께 주면, 단어 인덱스 리스트 벡터로 변환해 주는 함수\n",
    "def get_encoded_sentence(sentence, word_to_index):\n",
    "    return [word_to_index['<BOS>']]+[word_to_index[word] if word in word_to_index else word_to_index['<UNK>'] for word in sentence.split()]\n",
    "\n",
    "# 여러 개의 문장 리스트를 한꺼번에 단어 인덱스 리스트 벡터로 encode해 주는 함수\n",
    "def get_encoded_sentences(sentences, word_to_index):\n",
    "    return [get_encoded_sentence(sentence, word_to_index) for sentence in sentences]\n",
    "\n",
    "# 숫자 벡터로 encode된 문장을 원래대로 decode하는 함수\n",
    "def get_decoded_sentence(encoded_sentence, index_to_word):\n",
    "    return ' '.join(index_to_word[index] if index in index_to_word else '<UNK>' for index in encoded_sentence[1:])  #[1:]를 통해 <BOS>를 제외\n",
    "\n",
    "# 여러개의 숫자 벡터로 encode된 문장을 한꺼번에 원래대로 decode하는 함수\n",
    "def get_decoded_sentences(encoded_sentences, index_to_word):\n",
    "    return [get_decoded_sentence(encoded_sentence, index_to_word) for encoded_sentence in encoded_sentences]"
   ]
  },
  {
   "cell_type": "code",
   "execution_count": 41,
   "metadata": {},
   "outputs": [
    {
     "name": "stdout",
     "output_type": "stream",
     "text": [
      "훈련 샘플 개수: 146182, 테스트 개수: 49157\n"
     ]
    }
   ],
   "source": [
    "# 데이터 분석 및 가공\n",
    "print(\"훈련 샘플 개수: {}, 테스트 개수: {}\".format(len(X_train), len(X_test)))"
   ]
  },
  {
   "cell_type": "code",
   "execution_count": 42,
   "metadata": {},
   "outputs": [
    {
     "name": "stdout",
     "output_type": "stream",
     "text": [
      "[32, 74, 919, 4, 4, 39, 228, 20, 33, 748]\n",
      "라벨:  0\n",
      "1번째 리뷰 문장 길이:  10\n",
      "2번째 리뷰 문장 길이:  17\n"
     ]
    }
   ],
   "source": [
    "# 데이터셋 내 문장 길이 분포 파악\n",
    "print(X_train[0])  # 1번째 리뷰데이터\n",
    "print('라벨: ', y_train[0])  # 1번째 리뷰데이터의 라벨\n",
    "print('1번째 리뷰 문장 길이: ', len(X_train[0]))\n",
    "print('2번째 리뷰 문장 길이: ', len(X_train[1]))"
   ]
  },
  {
   "cell_type": "code",
   "execution_count": 43,
   "metadata": {},
   "outputs": [
    {
     "name": "stdout",
     "output_type": "stream",
     "text": [
      "더 빙 . . 진짜 짜증 나 네요 목소리\n",
      "라벨:  0\n"
     ]
    }
   ],
   "source": [
    "print(get_decoded_sentence(X_train[0], index_to_word))\n",
    "print('라벨: ', y_train[0])  # 1번째 리뷰데이터의 라벨"
   ]
  },
  {
   "cell_type": "code",
   "execution_count": 44,
   "metadata": {},
   "outputs": [
    {
     "name": "stdout",
     "output_type": "stream",
     "text": [
      "문장길이 평균 :  15.96940191154864\n",
      "문장길이 최대 :  116\n",
      "문장길이 표준편차 :  12.843571191092\n",
      "pad_sequences maxlen :  41\n",
      "전체 문장의 0.9342988343341575%가 maxlen 설정값 이내에 포함됩니다. \n"
     ]
    }
   ],
   "source": [
    "# 적절한 최대 문장 길이를 지정\n",
    "total_data_text = list(X_train) + list(X_test)\n",
    "# 텍스트데이터 문장길이의 리스트를 생성\n",
    "num_tokens = [len(tokens) for tokens in total_data_text]\n",
    "num_tokens = np.array(num_tokens)\n",
    "\n",
    "print('문장길이 평균 : ', np.mean(num_tokens))\n",
    "print('문장길이 최대 : ', np.max(num_tokens))\n",
    "print('문장길이 표준편차 : ', np.std(num_tokens))\n",
    "\n",
    "# 최대 길이를 (평균 + 2*표준편차)로 설정  \n",
    "max_tokens = np.mean(num_tokens) + 2 * np.std(num_tokens)\n",
    "maxlen = int(max_tokens)\n",
    "print('pad_sequences maxlen : ', maxlen)\n",
    "print('전체 문장의 {}%가 maxlen 설정값 이내에 포함됩니다. '.format(np.sum(num_tokens < max_tokens) / len(num_tokens)))"
   ]
  },
  {
   "cell_type": "code",
   "execution_count": 45,
   "metadata": {},
   "outputs": [
    {
     "name": "stdout",
     "output_type": "stream",
     "text": [
      "(146182, 41)\n"
     ]
    }
   ],
   "source": [
    "# 패딩 작업\n",
    "X_train = keras.preprocessing.sequence.pad_sequences(X_train,\n",
    "                                                        value=word_to_index[\"<PAD>\"],\n",
    "                                                        padding='pre', # 혹은 padding='post'\n",
    "                                                        maxlen=maxlen)\n",
    "\n",
    "X_test = keras.preprocessing.sequence.pad_sequences(X_test,\n",
    "                                                       value=word_to_index[\"<PAD>\"],\n",
    "                                                       padding='pre', # 혹은 padding='post'\n",
    "                                                       maxlen=maxlen)\n",
    "\n",
    "print(X_train.shape)"
   ]
  },
  {
   "cell_type": "code",
   "execution_count": 46,
   "metadata": {},
   "outputs": [
    {
     "name": "stdout",
     "output_type": "stream",
     "text": [
      "(96182, 41)\n",
      "(96182,)\n"
     ]
    }
   ],
   "source": [
    "# RNN 모델 구성 및 검증 데이터셋 구성\n",
    "#  validation set 구성\n",
    "X_val = X_train[:50000]   \n",
    "y_val = y_train[:50000]\n",
    "\n",
    "# validation set을 제외한 나머지\n",
    "partial_X_train = X_train[50000:]  \n",
    "partial_y_train = y_train[50000:]\n",
    "\n",
    "print(partial_X_train.shape)\n",
    "print(partial_y_train.shape)"
   ]
  },
  {
   "cell_type": "code",
   "execution_count": 47,
   "metadata": {},
   "outputs": [
    {
     "name": "stdout",
     "output_type": "stream",
     "text": [
      "Model: \"sequential_4\"\n",
      "_________________________________________________________________\n",
      "Layer (type)                 Output Shape              Param #   \n",
      "=================================================================\n",
      "embedding_4 (Embedding)      (None, None, 16)          160000    \n",
      "_________________________________________________________________\n",
      "lstm_4 (LSTM)                (None, 12)                1392      \n",
      "_________________________________________________________________\n",
      "dense_8 (Dense)              (None, 8)                 104       \n",
      "_________________________________________________________________\n",
      "dense_9 (Dense)              (None, 1)                 9         \n",
      "=================================================================\n",
      "Total params: 161,505\n",
      "Trainable params: 161,505\n",
      "Non-trainable params: 0\n",
      "_________________________________________________________________\n"
     ]
    }
   ],
   "source": [
    "import numpy as np\n",
    "import tensorflow as tf\n",
    "from tensorflow import keras\n",
    "\n",
    "vocab_size = 10000    \n",
    "word_vector_dim = 16\n",
    "\n",
    "model_rnn = keras.Sequential()\n",
    "model_rnn.add(keras.layers.Embedding(vocab_size, word_vector_dim, input_shape=(None,)))\n",
    "model_rnn.add(keras.layers.LSTM(12))   \n",
    "model_rnn.add(keras.layers.Dense(8, activation='relu'))\n",
    "model_rnn.add(keras.layers.Dense(1, activation='sigmoid'))  \n",
    "\n",
    "model_rnn.summary()"
   ]
  },
  {
   "cell_type": "code",
   "execution_count": 48,
   "metadata": {},
   "outputs": [
    {
     "name": "stdout",
     "output_type": "stream",
     "text": [
      "Epoch 1/20\n",
      "188/188 [==============================] - 3s 9ms/step - loss: 0.5137 - accuracy: 0.7667 - val_loss: 0.3761 - val_accuracy: 0.8411\n",
      "Epoch 2/20\n",
      "188/188 [==============================] - 1s 6ms/step - loss: 0.3491 - accuracy: 0.8529 - val_loss: 0.3589 - val_accuracy: 0.8436\n",
      "Epoch 3/20\n",
      "188/188 [==============================] - 1s 6ms/step - loss: 0.3220 - accuracy: 0.8669 - val_loss: 0.3505 - val_accuracy: 0.8500\n",
      "Epoch 4/20\n",
      "188/188 [==============================] - 1s 6ms/step - loss: 0.3092 - accuracy: 0.8722 - val_loss: 0.3553 - val_accuracy: 0.8465\n",
      "Epoch 5/20\n",
      "188/188 [==============================] - 1s 6ms/step - loss: 0.3011 - accuracy: 0.8758 - val_loss: 0.3553 - val_accuracy: 0.8476\n",
      "Epoch 6/20\n",
      "188/188 [==============================] - 1s 6ms/step - loss: 0.2951 - accuracy: 0.8794 - val_loss: 0.3607 - val_accuracy: 0.8440\n",
      "Epoch 7/20\n",
      "188/188 [==============================] - 1s 6ms/step - loss: 0.2876 - accuracy: 0.8825 - val_loss: 0.3622 - val_accuracy: 0.8456\n",
      "Epoch 8/20\n",
      "188/188 [==============================] - 1s 6ms/step - loss: 0.2798 - accuracy: 0.8875 - val_loss: 0.3677 - val_accuracy: 0.8445\n",
      "Epoch 9/20\n",
      "188/188 [==============================] - 1s 7ms/step - loss: 0.2715 - accuracy: 0.8904 - val_loss: 0.3738 - val_accuracy: 0.8458\n",
      "Epoch 10/20\n",
      "188/188 [==============================] - 1s 6ms/step - loss: 0.2608 - accuracy: 0.8950 - val_loss: 0.3681 - val_accuracy: 0.8454\n",
      "Epoch 11/20\n",
      "188/188 [==============================] - 1s 6ms/step - loss: 0.2497 - accuracy: 0.9004 - val_loss: 0.3726 - val_accuracy: 0.8462\n",
      "Epoch 12/20\n",
      "188/188 [==============================] - 1s 7ms/step - loss: 0.2380 - accuracy: 0.9048 - val_loss: 0.3864 - val_accuracy: 0.8453\n",
      "Epoch 13/20\n",
      "188/188 [==============================] - 1s 6ms/step - loss: 0.2262 - accuracy: 0.9102 - val_loss: 0.4038 - val_accuracy: 0.8449\n",
      "Epoch 14/20\n",
      "188/188 [==============================] - 1s 6ms/step - loss: 0.2184 - accuracy: 0.9123 - val_loss: 0.4151 - val_accuracy: 0.8441\n",
      "Epoch 15/20\n",
      "188/188 [==============================] - 1s 6ms/step - loss: 0.2075 - accuracy: 0.9170 - val_loss: 0.4392 - val_accuracy: 0.8420\n",
      "Epoch 16/20\n",
      "188/188 [==============================] - 1s 6ms/step - loss: 0.1986 - accuracy: 0.9198 - val_loss: 0.4318 - val_accuracy: 0.8420\n",
      "Epoch 17/20\n",
      "188/188 [==============================] - 1s 7ms/step - loss: 0.1901 - accuracy: 0.9240 - val_loss: 0.4601 - val_accuracy: 0.8394\n",
      "Epoch 18/20\n",
      "188/188 [==============================] - 1s 6ms/step - loss: 0.1849 - accuracy: 0.9264 - val_loss: 0.4672 - val_accuracy: 0.8412\n",
      "Epoch 19/20\n",
      "188/188 [==============================] - 1s 6ms/step - loss: 0.1769 - accuracy: 0.9295 - val_loss: 0.5053 - val_accuracy: 0.8399\n",
      "Epoch 20/20\n",
      "188/188 [==============================] - 1s 6ms/step - loss: 0.1689 - accuracy: 0.9335 - val_loss: 0.5176 - val_accuracy: 0.8383\n"
     ]
    }
   ],
   "source": [
    "model_rnn.compile(optimizer='adam',\n",
    "              loss='binary_crossentropy',\n",
    "              metrics=['accuracy'])\n",
    "              \n",
    "epochs = 20\n",
    "\n",
    "history_rnn = model_rnn.fit(partial_X_train,\n",
    "                    partial_y_train,\n",
    "                    epochs=epochs,\n",
    "                    batch_size=512,\n",
    "                    validation_data=(X_val, y_val),\n",
    "                    verbose=1)"
   ]
  },
  {
   "cell_type": "code",
   "execution_count": 49,
   "metadata": {},
   "outputs": [
    {
     "name": "stdout",
     "output_type": "stream",
     "text": [
      "1537/1537 - 3s - loss: 0.5213 - accuracy: 0.8312\n",
      "[0.5212541222572327, 0.8312346339225769]\n",
      "dict_keys(['loss', 'accuracy', 'val_loss', 'val_accuracy'])\n"
     ]
    },
    {
     "data": {
      "image/png": "[encoded data removed]",
      "text/plain": [
       "<Figure size 432x288 with 1 Axes>"
      ]
     },
     "metadata": {
      "needs_background": "light"
     },
     "output_type": "display_data"
    },
    {
     "data": {
      "image/png": "[encoded data removed]",
      "text/plain": [
       "<Figure size 432x288 with 1 Axes>"
      ]
     },
     "metadata": {
      "needs_background": "light"
     },
     "output_type": "display_data"
    }
   ],
   "source": [
    "# 평가하기\n",
    "results_rnn = model_rnn.evaluate(X_test, y_test, verbose=2)\n",
    "print(results_rnn)\n",
    "\n",
    "history_dict_rnn = history_rnn.history\n",
    "print(history_dict_rnn.keys()) # epoch에 따른 그래프를 그려볼 수 있는 항목들\n",
    "\n",
    "# train과 val의 Loss\n",
    "acc_rnn = history_dict_rnn['accuracy']\n",
    "val_acc_rnn = history_dict_rnn['val_accuracy']\n",
    "loss_rnn = history_dict_rnn['loss']\n",
    "val_loss_rnn = history_dict_rnn['val_loss']\n",
    "\n",
    "epochs_rnn = range(1, len(acc_rnn) + 1)\n",
    "\n",
    "# \"bo\"는 \"파란색 점\"\n",
    "plt.plot(epochs_rnn, loss_rnn, 'bo', label='Training loss')\n",
    "# b는 \"파란 실선\"\n",
    "plt.plot(epochs_rnn, val_loss_rnn, 'b', label='Validation loss')\n",
    "plt.title('RNN\\'s Training & validation loss')\n",
    "plt.xlabel('Epochs')\n",
    "plt.ylabel('Loss')\n",
    "plt.legend()\n",
    "\n",
    "plt.show()\n",
    "\n",
    "# train과 val의 accuracy\n",
    "plt.clf()  \n",
    "\n",
    "plt.plot(epochs_rnn, acc_rnn, 'bo', label='Training acc')\n",
    "plt.plot(epochs_rnn, val_acc_rnn, 'b', label='Validation acc')\n",
    "plt.title('RNN\\'s Training and validation accuracy')\n",
    "plt.xlabel('Epochs')\n",
    "plt.ylabel('Accuracy')\n",
    "plt.legend()\n",
    "\n",
    "plt.show()"
   ]
  },
  {
   "cell_type": "markdown",
   "metadata": {},
   "source": [
    "#### SentencePiece 모델의 model_type, vocab_size 등을 변경해 가면서 성능 개선 여부 확인 (정확도)\n",
    "* padding='pre'\n",
    "###### Unigram 0.8331 \n",
    "###### KoNLPy 형태소 분석기 0.8312\n",
    "###### BPE 0.8297\n",
    "###### WORD 0.8262\n",
    "###### CHAR 0.8250\n",
    "-------------------------------\n",
    "* padding='post'\n",
    "###### KoNLPy 형태소 분석기 0.8278\n",
    "###### WORD 0.8226\n",
    "###### CHAR 0.7883\n",
    "###### BPE 0.6061\n",
    "###### Unigram 0.4972\n"
   ]
  },
  {
   "cell_type": "markdown",
   "metadata": {},
   "source": [
    "### 루브릭\n",
    "#### 평가문항 (상세기준)\n",
    "* 1. SentencePiece를 이용하여 모델을 만들기까지의 과정이 정상적으로 진행되었는가?\t\n",
    "###### 코퍼스 분석, 전처리, SentencePiece 적용, 토크나이저 구현 및 동작이 빠짐없이 진행되었는가?\n",
    "* 2. SentencePiece를 통해 만든 Tokenizer가 자연어처리 모델과 결합하여 동작하는가?\t\n",
    "###### SentencePiece 토크나이저가 적용된 Text Classifier 모델이 정상적으로 수렴하여 80% 이상의 test accuracy가 확인되었다.\n",
    "* 3. SentencePiece의 성능을 다각도로 비교분석하였는가?\t\n",
    "###### SentencePiece 토크나이저를 활용했을 때의 성능을 다른 토크나이저 혹은 SentencePiece의 다른 옵션의 경우와 비교하여 분석을 체계적으로 진행하였다."
   ]
  },
  {
   "cell_type": "markdown",
   "metadata": {},
   "source": [
    "### 회고\n",
    "* 코드를 계속 복사 붙여넣기로 사용하다보니 너무 길어진 감이 있는데, 좀 더 간추리면 시각적으로나 실제 사용으로나 더 편할 것 같다.\n",
    "* 전처리를 거의 하지 않았는데 전처리 시 성능이 궁금하다.\n",
    "* padding을 'post'로 돌렸을 때 sentencepiec 모델의 결과가 확연히 안 좋아지는 것을 확인할 수 있었다. KoNLPY 형태소 분석기의 경우 큰 차이가 없었다.\n",
    "* 모델 별 성능 차이는 돌릴 때 마다 우위가 달라지는 것으로 보아 편차가 크지 않거나 데이터가 어떻게 주어지는 지에 따른 영향이 더 큰 것으로 보인다."
   ]
  }
 ],
 "metadata": {
  "kernelspec": {
   "display_name": "Python 3 (ipykernel)",
   "language": "python",
   "name": "python3"
  },
  "language_info": {
   "codemirror_mode": {
    "name": "ipython",
    "version": 3
   },
   "file_extension": ".py",
   "mimetype": "text/x-python",
   "name": "python",
   "nbconvert_exporter": "python",
   "pygments_lexer": "ipython3",
   "version": "3.9.7"
  }
 },
 "nbformat": 4,
 "nbformat_minor": 2
}
