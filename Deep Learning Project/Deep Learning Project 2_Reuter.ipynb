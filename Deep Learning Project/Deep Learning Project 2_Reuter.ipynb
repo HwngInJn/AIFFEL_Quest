{
 "cells": [
  {
   "cell_type": "markdown",
   "metadata": {},
   "source": [
    "## Reuters 딥러닝 모델\n",
    "### 데이터 로드 및 전처리"
   ]
  },
  {
   "cell_type": "code",
   "execution_count": 1,
   "metadata": {},
   "outputs": [],
   "source": [
    "import numpy as np\n",
    "import matplotlib.pyplot as plt\n",
    "from sklearn.model_selection import train_test_split\n",
    "\n",
    "from tensorflow.keras import models, layers\n",
    "from tensorflow.keras import callbacks\n",
    "from tensorflow.keras import utils\n",
    "from keras.datasets import reuters"
   ]
  },
  {
   "cell_type": "markdown",
   "metadata": {},
   "source": [
    "* reuters 데이터셋을 로드하고, 훈련 데이터셋에서 25%를 검증 데이터셋으로 분리\n",
    "* 훈련, 검증, 테스트 데이터와 레이블 종류가 몇 개인지 출력"
   ]
  },
  {
   "cell_type": "code",
   "execution_count": 2,
   "metadata": {},
   "outputs": [
    {
     "name": "stdout",
     "output_type": "stream",
     "text": [
      "6287\n",
      "2695\n",
      "2246\n",
      "46\n"
     ]
    }
   ],
   "source": [
    "(train_data, train_labels), (test_data, test_labels) = reuters.load_data(num_words=10000) # 단어 갯수 10000개로 제한하여 로드\n",
    "\n",
    "train_data, val_data, train_labels, val_labels = (train_test_split(train_data, train_labels, test_size=0.25))\n",
    "\n",
    "print(len(train_data))\n",
    "print(len(val_data))\n",
    "print(len(test_data))\n",
    "print(len(set(train_labels)))"
   ]
  },
  {
   "cell_type": "markdown",
   "metadata": {},
   "source": [
    "* 텍스트 데이터의 전처리를 위해서 각 데이터셋마다 원-핫 인코딩을 수행\n",
    "* 레이블 데이터들은 범주형 형태로 to_categorical() 함수를 사용해 변환"
   ]
  },
  {
   "cell_type": "code",
   "execution_count": 3,
   "metadata": {},
   "outputs": [],
   "source": [
    "def one_hot_encoding(data, dim=10000):\n",
    "    matrix = np.zeros((len(data), dim))\n",
    "    for i, d in enumerate(data) :\n",
    "        matrix[i, d] = 1.\n",
    "    return matrix\n",
    "\n",
    "x_train = one_hot_encoding(train_data)\n",
    "x_val = one_hot_encoding(val_data)\n",
    "x_test = one_hot_encoding(test_data)\n",
    "\n",
    "# 레이블 데이터들은 범주형 형태로 to_categorical() 함수를 사용해 변환합니다.\n",
    "y_train = utils.to_categorical(train_labels)\n",
    "y_val = utils.to_categorical(val_labels)\n",
    "y_test = utils.to_categorical(test_labels)"
   ]
  },
  {
   "cell_type": "markdown",
   "metadata": {},
   "source": [
    "### 모델 구성 및 컴파일\n",
    "* BatchNormalization과 Dropout을 적용하여 빠르게 학습하면서 과대적합을 방지하고, 46개의 뉴스 주제를 분류하는 딥러닝 모델을 구성\n",
    "* 활성화 함수와 BatchNormalization의 순서를 반대로 하는 것도 고려"
   ]
  },
  {
   "cell_type": "code",
   "execution_count": 4,
   "metadata": {},
   "outputs": [
    {
     "name": "stdout",
     "output_type": "stream",
     "text": [
      "Model: \"sequential\"\n",
      "_________________________________________________________________\n",
      "Layer (type)                 Output Shape              Param #   \n",
      "=================================================================\n",
      "input (Dense)                (None, 32)                320032    \n",
      "_________________________________________________________________\n",
      "batch_normalization (BatchNo (None, 32)                128       \n",
      "_________________________________________________________________\n",
      "activation (Activation)      (None, 32)                0         \n",
      "_________________________________________________________________\n",
      "dropout (Dropout)            (None, 32)                0         \n",
      "_________________________________________________________________\n",
      "hidden (Dense)               (None, 32)                1056      \n",
      "_________________________________________________________________\n",
      "batch_normalization_1 (Batch (None, 32)                128       \n",
      "_________________________________________________________________\n",
      "activation_1 (Activation)    (None, 32)                0         \n",
      "_________________________________________________________________\n",
      "dropout_1 (Dropout)          (None, 32)                0         \n",
      "_________________________________________________________________\n",
      "output (Dense)               (None, 46)                1518      \n",
      "=================================================================\n",
      "Total params: 322,862\n",
      "Trainable params: 322,734\n",
      "Non-trainable params: 128\n",
      "_________________________________________________________________\n"
     ]
    }
   ],
   "source": [
    "model = models.Sequential()\n",
    "model.add(layers.Dense(32, input_shape=(10000, ), name='input'))\n",
    "model.add(layers.BatchNormalization())\n",
    "model.add(layers.Activation('relu')) \n",
    "model.add(layers.Dropout(0.2))\n",
    "model.add(layers.Dense(32, name='hidden'))\n",
    "model.add(layers.BatchNormalization())\n",
    "model.add(layers.Activation('relu')) \n",
    "model.add(layers.Dropout(0.2))\n",
    "model.add(layers.Dense(46, activation='softmax', name='output'))\n",
    "\n",
    "model.compile(optimizer='rmsprop',\n",
    "              loss='categorical_crossentropy',\n",
    "              metrics=['accuracy'])\n",
    "model.summary()"
   ]
  },
  {
   "cell_type": "markdown",
   "metadata": {},
   "source": [
    "### 모델 학습\n",
    "* ModelCheckpoint와 EarlyStopping 콜백 함수를 적용하여 모델 학습을 진행"
   ]
  },
  {
   "cell_type": "markdown",
   "metadata": {},
   "source": [
    "#### ModelCheckpoint\n",
    "* tf.keras.callbacks.ModelCheckpoint: 정기적으로 모델의 체크포인트를 저장하고, 문제가 발생할 때 복구하는데 사용"
   ]
  },
  {
   "cell_type": "markdown",
   "metadata": {},
   "source": [
    "* 최상의 모델만을 저장하는 옵션으로 save_best_only=True를 지정"
   ]
  },
  {
   "cell_type": "markdown",
   "metadata": {},
   "source": [
    "#### EarlyStopping\n",
    "* tf.keras.callbacks.EarlyStopping: 검증 성능이 한동안 개선되지 않을 경우 학습을 중단할 때 사용\n",
    "###### 일정 patience 동안 검증 세트에 대한 점수가 오르지 않으면 학습을 정지\n",
    "###### 모델이 향상되지 않으면 학습이 자동으로 중지되므로, epochs 숫자를 크게 해도 무방\n",
    "###### 학습이 끝난 후의 최상의 가중치를 복원하기 때문에 모델을 따로 복원할 필요가 없음"
   ]
  },
  {
   "cell_type": "code",
   "execution_count": 5,
   "metadata": {},
   "outputs": [
    {
     "name": "stdout",
     "output_type": "stream",
     "text": [
      "Epoch 1/40\n",
      "13/13 [==============================] - 2s 56ms/step - loss: 2.9761 - accuracy: 0.3903 - val_loss: 3.5869 - val_accuracy: 0.5978\n",
      "Epoch 2/40\n",
      "13/13 [==============================] - 0s 17ms/step - loss: 2.2365 - accuracy: 0.6060 - val_loss: 3.4190 - val_accuracy: 0.6163\n",
      "Epoch 3/40\n",
      "13/13 [==============================] - 0s 17ms/step - loss: 1.8910 - accuracy: 0.6741 - val_loss: 3.2466 - val_accuracy: 0.6245\n",
      "Epoch 4/40\n",
      "13/13 [==============================] - 0s 17ms/step - loss: 1.6361 - accuracy: 0.7026 - val_loss: 3.0561 - val_accuracy: 0.6171\n",
      "Epoch 5/40\n",
      "13/13 [==============================] - 0s 19ms/step - loss: 1.4384 - accuracy: 0.7231 - val_loss: 2.8825 - val_accuracy: 0.6204\n",
      "Epoch 6/40\n",
      "13/13 [==============================] - 0s 16ms/step - loss: 1.2624 - accuracy: 0.7509 - val_loss: 2.6892 - val_accuracy: 0.6408\n",
      "Epoch 7/40\n",
      "13/13 [==============================] - 0s 16ms/step - loss: 1.1438 - accuracy: 0.7579 - val_loss: 2.5174 - val_accuracy: 0.6371\n",
      "Epoch 8/40\n",
      "13/13 [==============================] - 0s 17ms/step - loss: 1.0245 - accuracy: 0.7784 - val_loss: 2.3294 - val_accuracy: 0.6490\n",
      "Epoch 9/40\n",
      "13/13 [==============================] - 0s 18ms/step - loss: 0.9464 - accuracy: 0.7892 - val_loss: 2.1361 - val_accuracy: 0.6449\n",
      "Epoch 10/40\n",
      "13/13 [==============================] - 0s 16ms/step - loss: 0.8704 - accuracy: 0.8021 - val_loss: 1.9431 - val_accuracy: 0.6831\n",
      "Epoch 11/40\n",
      "13/13 [==============================] - 0s 18ms/step - loss: 0.8069 - accuracy: 0.8080 - val_loss: 1.8144 - val_accuracy: 0.6787\n",
      "Epoch 12/40\n",
      "13/13 [==============================] - 0s 16ms/step - loss: 0.7512 - accuracy: 0.8250 - val_loss: 1.6918 - val_accuracy: 0.6879\n",
      "Epoch 13/40\n",
      "13/13 [==============================] - 0s 17ms/step - loss: 0.7149 - accuracy: 0.8308 - val_loss: 1.5375 - val_accuracy: 0.7072\n",
      "Epoch 14/40\n",
      "13/13 [==============================] - 0s 15ms/step - loss: 0.6677 - accuracy: 0.8371 - val_loss: 1.4613 - val_accuracy: 0.7083\n",
      "Epoch 15/40\n",
      "13/13 [==============================] - 0s 16ms/step - loss: 0.6147 - accuracy: 0.8473 - val_loss: 1.3769 - val_accuracy: 0.7035\n",
      "Epoch 16/40\n",
      "13/13 [==============================] - 0s 15ms/step - loss: 0.5862 - accuracy: 0.8521 - val_loss: 1.3029 - val_accuracy: 0.7180\n",
      "Epoch 17/40\n",
      "13/13 [==============================] - 0s 16ms/step - loss: 0.5588 - accuracy: 0.8584 - val_loss: 1.2581 - val_accuracy: 0.7224\n",
      "Epoch 18/40\n",
      "13/13 [==============================] - 0s 15ms/step - loss: 0.5342 - accuracy: 0.8659 - val_loss: 1.1854 - val_accuracy: 0.7380\n",
      "Epoch 19/40\n",
      "13/13 [==============================] - 0s 14ms/step - loss: 0.5073 - accuracy: 0.8683 - val_loss: 1.1582 - val_accuracy: 0.7403\n",
      "Epoch 20/40\n",
      "13/13 [==============================] - 0s 16ms/step - loss: 0.4904 - accuracy: 0.8680 - val_loss: 1.1108 - val_accuracy: 0.7525\n",
      "Epoch 21/40\n",
      "13/13 [==============================] - 0s 17ms/step - loss: 0.4585 - accuracy: 0.8821 - val_loss: 1.0690 - val_accuracy: 0.7618\n",
      "Epoch 22/40\n",
      "13/13 [==============================] - 0s 15ms/step - loss: 0.4403 - accuracy: 0.8834 - val_loss: 1.0579 - val_accuracy: 0.7599\n",
      "Epoch 23/40\n",
      "13/13 [==============================] - 0s 15ms/step - loss: 0.4240 - accuracy: 0.8917 - val_loss: 1.0380 - val_accuracy: 0.7588\n",
      "Epoch 24/40\n",
      "13/13 [==============================] - 0s 15ms/step - loss: 0.4094 - accuracy: 0.8920 - val_loss: 1.0235 - val_accuracy: 0.7666\n",
      "Epoch 25/40\n",
      "13/13 [==============================] - 0s 16ms/step - loss: 0.3955 - accuracy: 0.8988 - val_loss: 1.0258 - val_accuracy: 0.7744\n",
      "Epoch 26/40\n",
      "13/13 [==============================] - 0s 16ms/step - loss: 0.3743 - accuracy: 0.9055 - val_loss: 1.0223 - val_accuracy: 0.7725\n",
      "Epoch 27/40\n",
      "13/13 [==============================] - 0s 16ms/step - loss: 0.3681 - accuracy: 0.9036 - val_loss: 1.0221 - val_accuracy: 0.7740\n",
      "Epoch 28/40\n",
      "13/13 [==============================] - 0s 15ms/step - loss: 0.3593 - accuracy: 0.9054 - val_loss: 1.0214 - val_accuracy: 0.7740\n",
      "Epoch 29/40\n",
      "13/13 [==============================] - 0s 16ms/step - loss: 0.3367 - accuracy: 0.9097 - val_loss: 1.0256 - val_accuracy: 0.7788\n",
      "Epoch 30/40\n",
      "13/13 [==============================] - 0s 15ms/step - loss: 0.3241 - accuracy: 0.9144 - val_loss: 1.0392 - val_accuracy: 0.7785\n",
      "Epoch 31/40\n",
      "13/13 [==============================] - 0s 15ms/step - loss: 0.3182 - accuracy: 0.9162 - val_loss: 1.0370 - val_accuracy: 0.7725\n"
     ]
    }
   ],
   "source": [
    "check_point_cb = callbacks.ModelCheckpoint('reuter_model.h5', save_best_only=True)\n",
    "early_stopping_cb = callbacks.EarlyStopping(patience=3, monitor='val_loss',\n",
    "                                  restore_best_weights=True)\n",
    "history = model.fit(x_train, y_train,\n",
    "                    epochs=40,\n",
    "                    batch_size=512,\n",
    "                    validation_data=(x_val, y_val),\n",
    "                    callbacks=[check_point_cb, early_stopping_cb])"
   ]
  },
  {
   "cell_type": "markdown",
   "metadata": {},
   "source": [
    "* 학습 히스토리의 loss, val_loss, accuracy, val_accuracy를 차트로 시각화"
   ]
  },
  {
   "cell_type": "code",
   "execution_count": 6,
   "metadata": {},
   "outputs": [
    {
     "data": {
      "image/png": "[encoded data removed]",
      "text/plain": [
       "<Figure size 864x360 with 2 Axes>"
      ]
     },
     "metadata": {},
     "output_type": "display_data"
    }
   ],
   "source": [
    "# 학습 히스토리의 `loss`, `val_loss`, `accuracy`, `val_accuracy`를 차트로 시각화\n",
    "plt.style.use('seaborn-white')\n",
    "\n",
    "history_dict = history.history\n",
    "\n",
    "loss = history_dict['loss']\n",
    "val_loss = history_dict['val_loss']\n",
    "\n",
    "epochs = range(1, len(loss) + 1)\n",
    "fig = plt.figure(figsize=(12, 5))\n",
    "\n",
    "ax1 = fig.add_subplot(1, 2, 1)\n",
    "ax1.plot(epochs, loss, 'b-', label='train_loss')\n",
    "ax1.plot(epochs, val_loss, 'r-', label='val_loss')\n",
    "ax1.set_title('Train and Validation Loss')\n",
    "ax1.set_xlabel('Epochs')\n",
    "ax1.set_ylabel('Loss')\n",
    "ax1.grid()\n",
    "ax1.legend()\n",
    "\n",
    "accuracy = history_dict['accuracy']\n",
    "val_accuracy = history_dict['val_accuracy']\n",
    "\n",
    "ax2 = fig.add_subplot(1, 2, 2)\n",
    "ax2.plot(epochs, accuracy, 'b-', label='train_accuracy')\n",
    "ax2.plot(epochs, val_accuracy, 'r-', label='val_accuracy')\n",
    "ax2.set_title('Train and Validation Accuracy')\n",
    "ax2.set_xlabel('Epochs')\n",
    "ax2.set_ylabel('Accuracy')\n",
    "ax2.grid()\n",
    "ax2.legend()\n",
    "\n",
    "plt.show()"
   ]
  },
  {
   "cell_type": "markdown",
   "metadata": {},
   "source": [
    "### 모델 평가 및 예측\n",
    "* 테스트 데이터셋을 이용해 모델을 평가"
   ]
  },
  {
   "cell_type": "code",
   "execution_count": 7,
   "metadata": {},
   "outputs": [
    {
     "name": "stdout",
     "output_type": "stream",
     "text": [
      "71/71 [==============================] - 0s 3ms/step - loss: 1.1074 - accuracy: 0.7645\n",
      "[1.1073739528656006, 0.7644701600074768]\n",
      "(2246, 46)\n",
      "[4.3862063e-04 9.6337555e-04 6.5528182e-04 8.9527774e-01 4.8072774e-02\n",
      " 5.1627873e-04 2.5382714e-04 4.5034694e-04 1.0670386e-02 3.1888895e-04\n",
      " 7.0394127e-04 3.1559654e-03 2.4449179e-04 1.5073401e-03 2.0807700e-03\n",
      " 8.3725940e-04 4.0641553e-03 2.7317617e-03 5.1849167e-04 1.5496304e-03\n",
      " 2.4443874e-03 1.8017543e-03 6.2993442e-04 5.6703802e-04 3.0549645e-04\n",
      " 6.9623889e-04 1.1752204e-03 3.4428693e-04 7.8905676e-04 8.4007357e-04\n",
      " 2.3282270e-04 5.2534498e-04 3.9755655e-03 4.7559969e-04 4.7778839e-04\n",
      " 2.7681387e-04 2.0651247e-03 8.7643840e-04 4.4934326e-04 1.9188084e-03\n",
      " 9.1159123e-04 1.5481820e-03 3.4267348e-04 4.1562869e-04 2.2378474e-04\n",
      " 6.7964150e-04]\n"
     ]
    }
   ],
   "source": [
    "# 모델 평가 및 예측\n",
    "test_accuracy = model.evaluate(x_test, y_test)\n",
    "print(test_accuracy)\n",
    "\n",
    "pred = model.predict(x_test)\n",
    "print(pred.shape)\n",
    "print(pred[0])"
   ]
  },
  {
   "cell_type": "markdown",
   "metadata": {},
   "source": [
    "### 회고\n",
    "* 훈련 값과 검증 값의 손실 차이를 일정 이상 줄이기 어려웠다. \n",
    "* 테스트 값의 정확도를 0.7 대 이상으로 올리는 것 역시 어려웠다."
   ]
  }
 ],
 "metadata": {
  "kernelspec": {
   "display_name": "Python 3 (ipykernel)",
   "language": "python",
   "name": "python3"
  },
  "language_info": {
   "codemirror_mode": {
    "name": "ipython",
    "version": 3
   },
   "file_extension": ".py",
   "mimetype": "text/x-python",
   "name": "python",
   "nbconvert_exporter": "python",
   "pygments_lexer": "ipython3",
   "version": "3.9.7"
  }
 },
 "nbformat": 4,
 "nbformat_minor": 2
}
